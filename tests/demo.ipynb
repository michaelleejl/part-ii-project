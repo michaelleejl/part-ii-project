{
 "cells": [
  {
   "cell_type": "code",
   "execution_count": 5,
   "id": "initial_id",
   "metadata": {
    "collapsed": true,
    "ExecuteTime": {
     "end_time": "2023-12-11T08:18:49.049683Z",
     "start_time": "2023-12-11T08:18:47.817450Z"
    }
   },
   "outputs": [
    {
     "name": "stdout",
     "output_type": "stream",
     "text": [
      "Intel MKL WARNING: Support of Intel(R) Streaming SIMD Extensions 4.2 (Intel(R) SSE4.2) enabled only processors has been deprecated. Intel oneAPI Math Kernel Library 2025.0 will require Intel(R) Advanced Vector Extensions (Intel(R) AVX) instructions.\n",
      "Intel MKL WARNING: Support of Intel(R) Streaming SIMD Extensions 4.2 (Intel(R) SSE4.2) enabled only processors has been deprecated. Intel oneAPI Math Kernel Library 2025.0 will require Intel(R) Advanced Vector Extensions (Intel(R) AVX) instructions.\n"
     ]
    }
   ],
   "source": [
    "from schema import *\n",
    "\n",
    "s = Schema()\n",
    "\n",
    "# Load up the CSVs\n",
    "cardnum = pd.read_csv(\"./csv/bonuses/cardnum.csv\").set_index(\"val_id\")\n",
    "person = pd.read_csv(\"./csv/bonuses/person.csv\").set_index(\"cardnum\")\n",
    "\n",
    "# Insert them into the data frames\n",
    "s.insert_dataframe(cardnum, \"cardnum\")\n",
    "s.insert_dataframe(person, \"person\")\n",
    "\n",
    "# Get handles on the nodes now in the schema - may be slightly ugly but\n",
    "# we can slap on a load of syntactic sugar\n",
    "c_cardnum = SchemaNode(\"cardnum\", cluster=\"cardnum\")\n",
    "c_val_id = SchemaNode(\"val_id\", cluster=\"cardnum\")\n",
    "\n",
    "p_cardnum = SchemaNode(\"cardnum\", cluster=\"person\")\n",
    "p_person = SchemaNode(\"person\", cluster=\"person\")\n",
    "\n",
    "s.blend(c_cardnum, p_cardnum, under=\"Cardnum\")"
   ]
  },
  {
   "cell_type": "code",
   "execution_count": 2,
   "outputs": [
    {
     "data": {
      "text/plain": "        cardnum\nval_id         \n1          5172\n2          2354\n3          1410\n4          1111\n5          2354\n8          4412",
      "text/html": "<div>\n<style scoped>\n    .dataframe tbody tr th:only-of-type {\n        vertical-align: middle;\n    }\n\n    .dataframe tbody tr th {\n        vertical-align: top;\n    }\n\n    .dataframe thead th {\n        text-align: right;\n    }\n</style>\n<table border=\"1\" class=\"dataframe\">\n  <thead>\n    <tr style=\"text-align: right;\">\n      <th></th>\n      <th>cardnum</th>\n    </tr>\n    <tr>\n      <th>val_id</th>\n      <th></th>\n    </tr>\n  </thead>\n  <tbody>\n    <tr>\n      <th>1</th>\n      <td>5172</td>\n    </tr>\n    <tr>\n      <th>2</th>\n      <td>2354</td>\n    </tr>\n    <tr>\n      <th>3</th>\n      <td>1410</td>\n    </tr>\n    <tr>\n      <th>4</th>\n      <td>1111</td>\n    </tr>\n    <tr>\n      <th>5</th>\n      <td>2354</td>\n    </tr>\n    <tr>\n      <th>8</th>\n      <td>4412</td>\n    </tr>\n  </tbody>\n</table>\n</div>"
     },
     "execution_count": 2,
     "metadata": {},
     "output_type": "execute_result"
    }
   ],
   "source": [
    "cardnum"
   ],
   "metadata": {
    "collapsed": false,
    "ExecuteTime": {
     "end_time": "2023-12-11T08:02:08.095284Z",
     "start_time": "2023-12-11T08:02:08.062085Z"
    }
   },
   "id": "374547fbf153a2e7"
  },
  {
   "cell_type": "code",
   "execution_count": 3,
   "outputs": [
    {
     "data": {
      "text/plain": "        person\ncardnum       \n1111     Steve\n1410       Tom\n2354     Steve\n6440     Harry\n5467      Dick",
      "text/html": "<div>\n<style scoped>\n    .dataframe tbody tr th:only-of-type {\n        vertical-align: middle;\n    }\n\n    .dataframe tbody tr th {\n        vertical-align: top;\n    }\n\n    .dataframe thead th {\n        text-align: right;\n    }\n</style>\n<table border=\"1\" class=\"dataframe\">\n  <thead>\n    <tr style=\"text-align: right;\">\n      <th></th>\n      <th>person</th>\n    </tr>\n    <tr>\n      <th>cardnum</th>\n      <th></th>\n    </tr>\n  </thead>\n  <tbody>\n    <tr>\n      <th>1111</th>\n      <td>Steve</td>\n    </tr>\n    <tr>\n      <th>1410</th>\n      <td>Tom</td>\n    </tr>\n    <tr>\n      <th>2354</th>\n      <td>Steve</td>\n    </tr>\n    <tr>\n      <th>6440</th>\n      <td>Harry</td>\n    </tr>\n    <tr>\n      <th>5467</th>\n      <td>Dick</td>\n    </tr>\n  </tbody>\n</table>\n</div>"
     },
     "execution_count": 3,
     "metadata": {},
     "output_type": "execute_result"
    }
   ],
   "source": [
    "person"
   ],
   "metadata": {
    "collapsed": false,
    "ExecuteTime": {
     "end_time": "2023-12-11T08:02:15.524277Z",
     "start_time": "2023-12-11T08:02:15.513075Z"
    }
   },
   "id": "1b12bcda681970be"
  },
  {
   "cell_type": "code",
   "execution_count": 4,
   "outputs": [
    {
     "name": "stdout",
     "output_type": "stream",
     "text": [
      "[cardnum.val_id || ]\n",
      "Empty DataFrame\n",
      "Columns: []\n",
      "Index: [1, 2, 3, 4, 5, 8]\n"
     ]
    }
   ],
   "source": [
    "from tables import *\n",
    "table1 = s.get(['cardnum.val_id'])\n",
    "print(table1)"
   ],
   "metadata": {
    "collapsed": false,
    "ExecuteTime": {
     "end_time": "2023-12-11T08:03:14.236733Z",
     "start_time": "2023-12-11T08:03:14.217323Z"
    }
   },
   "id": "df5869941b01a7e7"
  },
  {
   "cell_type": "code",
   "execution_count": 5,
   "outputs": [
    {
     "name": "stdout",
     "output_type": "stream",
     "text": [
      "[cardnum.val_id || cardnum.cardnum]\n",
      "                cardnum.cardnum\n",
      "cardnum.val_id                 \n",
      "1                          5172\n",
      "2                          2354\n",
      "3                          1410\n",
      "4                          1111\n",
      "5                          2354\n",
      "8                          4412\n"
     ]
    }
   ],
   "source": [
    "table2 = table1.infer(['cardnum.val_id'], 'cardnum.cardnum')\n",
    "print(table2)"
   ],
   "metadata": {
    "collapsed": false,
    "ExecuteTime": {
     "end_time": "2023-12-11T08:03:20.003869Z",
     "start_time": "2023-12-11T08:03:19.980387Z"
    }
   },
   "id": "b59704dbc0338129"
  },
  {
   "cell_type": "code",
   "execution_count": 6,
   "outputs": [
    {
     "name": "stdout",
     "output_type": "stream",
     "text": [
      "[cardnum.val_id || cardnum.cardnum person.cardnum]\n",
      "                cardnum.cardnum  person.cardnum\n",
      "cardnum.val_id                                 \n",
      "1                          5172            5172\n",
      "2                          2354            2354\n",
      "5                          2354            2354\n",
      "3                          1410            1410\n",
      "4                          1111            1111\n",
      "8                          4412            4412\n"
     ]
    }
   ],
   "source": [
    "table3 = table2.infer(['cardnum.cardnum'], 'person.cardnum')\n",
    "print(table3)"
   ],
   "metadata": {
    "collapsed": false,
    "ExecuteTime": {
     "end_time": "2023-12-11T08:03:26.994617Z",
     "start_time": "2023-12-11T08:03:26.962505Z"
    }
   },
   "id": "61ba09105fee2042"
  },
  {
   "cell_type": "code",
   "execution_count": 7,
   "outputs": [
    {
     "name": "stdout",
     "output_type": "stream",
     "text": [
      "[cardnum.val_id || cardnum.cardnum person.cardnum person.person]\n",
      "                cardnum.cardnum  person.cardnum person.person\n",
      "cardnum.val_id                                               \n",
      "1.0                      5172.0            5172           NaN\n",
      "2.0                      2354.0            2354         Steve\n",
      "5.0                      2354.0            2354         Steve\n",
      "3.0                      1410.0            1410           Tom\n",
      "4.0                      1111.0            1111         Steve\n",
      "8.0                      4412.0            4412           NaN\n",
      "4 values hidden\n"
     ]
    }
   ],
   "source": [
    "table4 = table3.infer(['person.cardnum'], 'person.person')\n",
    "print(table4)"
   ],
   "metadata": {
    "collapsed": false,
    "ExecuteTime": {
     "end_time": "2023-12-11T08:03:39.796885Z",
     "start_time": "2023-12-11T08:03:39.751122Z"
    }
   },
   "id": "6e245a46fc2dc9e1"
  },
  {
   "cell_type": "code",
   "execution_count": 8,
   "outputs": [
    {
     "name": "stdout",
     "output_type": "stream",
     "text": [
      "[cardnum.val_id || person.person]\n",
      "               person.person\n",
      "cardnum.val_id              \n",
      "2.0                    Steve\n",
      "5.0                    Steve\n",
      "3.0                      Tom\n",
      "4.0                    Steve\n",
      "2 keys hidden\n",
      "2 values hidden\n"
     ]
    }
   ],
   "source": [
    "table = table4.hide('person.cardnum').hide('cardnum.cardnum')\n",
    "print(table)"
   ],
   "metadata": {
    "collapsed": false,
    "ExecuteTime": {
     "end_time": "2023-12-11T08:03:46.314364Z",
     "start_time": "2023-12-11T08:03:46.187378Z"
    }
   },
   "id": "699e1afbc95f06a2"
  },
  {
   "cell_type": "code",
   "execution_count": 9,
   "outputs": [
    {
     "name": "stdout",
     "output_type": "stream",
     "text": [
      "[cardnum.val_id || ]\n",
      "Empty DataFrame\n",
      "Columns: []\n",
      "Index: [1, 2, 3, 4, 5, 8]\n"
     ]
    }
   ],
   "source": [
    "table1 = s.get(['cardnum.val_id'])\n",
    "print(table1)"
   ],
   "metadata": {
    "collapsed": false,
    "ExecuteTime": {
     "end_time": "2023-12-11T08:03:55.241202Z",
     "start_time": "2023-12-11T08:03:55.233615Z"
    }
   },
   "id": "4e4839debfa750fc"
  },
  {
   "cell_type": "code",
   "execution_count": 11,
   "outputs": [
    {
     "name": "stdout",
     "output_type": "stream",
     "text": [
      "[cardnum.val_id || person.person]\n",
      "               person.person\n",
      "cardnum.val_id              \n",
      "2.0                    Steve\n",
      "3.0                      Tom\n",
      "4.0                    Steve\n",
      "5.0                    Steve\n",
      "2 keys hidden\n",
      "2 values hidden\n"
     ]
    }
   ],
   "source": [
    "table2 = table1.infer(['cardnum.val_id'], 'person.person')\n",
    "print(table2)"
   ],
   "metadata": {
    "collapsed": false,
    "ExecuteTime": {
     "end_time": "2023-12-11T08:04:40.414827Z",
     "start_time": "2023-12-11T08:04:40.386053Z"
    }
   },
   "id": "17b76ee146606cae"
  },
  {
   "cell_type": "code",
   "execution_count": 12,
   "outputs": [
    {
     "name": "stdout",
     "output_type": "stream",
     "text": [
      "[person.person || cardnum.val_id]\n",
      "                cardnum.val_id\n",
      "person.person                 \n",
      "Steve          [2.0, 4.0, 5.0]\n",
      "Tom                      [3.0]\n",
      "3 keys hidden\n"
     ]
    }
   ],
   "source": [
    "table3 = table2.set_key([\"person.person\"])\n",
    "print(table3)"
   ],
   "metadata": {
    "collapsed": false,
    "ExecuteTime": {
     "end_time": "2023-12-11T08:05:01.403169Z",
     "start_time": "2023-12-11T08:05:01.371362Z"
    }
   },
   "id": "136fea59f59fc636"
  },
  {
   "cell_type": "code",
   "execution_count": 15,
   "outputs": [
    {
     "name": "stdout",
     "output_type": "stream",
     "text": [
      "{}\n"
     ]
    }
   ],
   "source": [],
   "metadata": {
    "collapsed": false,
    "ExecuteTime": {
     "end_time": "2023-12-11T08:06:19.956880Z",
     "start_time": "2023-12-11T08:06:19.948510Z"
    }
   },
   "id": "3eefd0cdd41488ce"
  },
  {
   "cell_type": "code",
   "execution_count": 10,
   "outputs": [
    {
     "name": "stdout",
     "output_type": "stream",
     "text": [
      "[person.cardnum || person.person]\n",
      "               person.person\n",
      "person.cardnum              \n",
      "1111                   Steve\n",
      "1410                     Tom\n",
      "2354                   Steve\n",
      "6440                   Harry\n",
      "5467                    Dick\n"
     ]
    }
   ],
   "source": [
    "table = (s.get(['person.cardnum']).infer(['person.cardnum'], 'person.person'))\n",
    "print(table)"
   ],
   "metadata": {
    "collapsed": false,
    "ExecuteTime": {
     "end_time": "2023-12-11T07:12:23.699938Z",
     "start_time": "2023-12-11T07:12:23.675931Z"
    }
   },
   "id": "befb98b90e126167"
  },
  {
   "cell_type": "code",
   "execution_count": 16,
   "outputs": [
    {
     "ename": "AssertionError",
     "evalue": "",
     "output_type": "error",
     "traceback": [
      "\u001B[0;31m---------------------------------------------------------------------------\u001B[0m",
      "\u001B[0;31mAssertionError\u001B[0m                            Traceback (most recent call last)",
      "Cell \u001B[0;32mIn[16], line 1\u001B[0m\n\u001B[0;32m----> 1\u001B[0m tbl1 \u001B[38;5;241m=\u001B[39m \u001B[43mtable\u001B[49m\u001B[38;5;241;43m.\u001B[39;49m\u001B[43mcompose\u001B[49m\u001B[43m(\u001B[49m\u001B[43m[\u001B[49m\u001B[38;5;124;43m'\u001B[39;49m\u001B[38;5;124;43mcardnum.val_id\u001B[39;49m\u001B[38;5;124;43m'\u001B[39;49m\u001B[43m]\u001B[49m\u001B[43m,\u001B[49m\u001B[43m \u001B[49m\u001B[38;5;124;43m'\u001B[39;49m\u001B[38;5;124;43mperson.cardnum\u001B[39;49m\u001B[38;5;124;43m'\u001B[39;49m\u001B[43m)\u001B[49m\n\u001B[1;32m      2\u001B[0m \u001B[38;5;28mprint\u001B[39m(table1)\n\u001B[1;32m      4\u001B[0m table2 \u001B[38;5;241m=\u001B[39m tbl1\u001B[38;5;241m.\u001B[39mset_key([\u001B[38;5;124m\"\u001B[39m\u001B[38;5;124mperson.person\u001B[39m\u001B[38;5;124m\"\u001B[39m])\n",
      "File \u001B[0;32m~/Documents/Part_II_Project/tables/table.py:122\u001B[0m, in \u001B[0;36mTable.compose\u001B[0;34m(self, from_keys, to_key, via)\u001B[0m\n\u001B[1;32m    120\u001B[0m \u001B[38;5;28;01massert\u001B[39;00m \u001B[38;5;28mlen\u001B[39m(from_keys) \u001B[38;5;241m==\u001B[39m \u001B[38;5;28mlen\u001B[39m(\u001B[38;5;28mset\u001B[39m(from_keys))\n\u001B[1;32m    121\u001B[0m key_idx \u001B[38;5;241m=\u001B[39m find_index(\u001B[38;5;28mself\u001B[39m\u001B[38;5;241m.\u001B[39mdisplayed_columns, to_key)\n\u001B[0;32m--> 122\u001B[0m \u001B[38;5;28;01massert\u001B[39;00m \u001B[38;5;241m0\u001B[39m \u001B[38;5;241m<\u001B[39m\u001B[38;5;241m=\u001B[39m key_idx \u001B[38;5;241m<\u001B[39m \u001B[38;5;28mself\u001B[39m\u001B[38;5;241m.\u001B[39mmarker\n\u001B[1;32m    123\u001B[0m key \u001B[38;5;241m=\u001B[39m \u001B[38;5;28mself\u001B[39m\u001B[38;5;241m.\u001B[39mkeys[to_key]\n\u001B[1;32m    124\u001B[0m start_node \u001B[38;5;241m=\u001B[39m key\u001B[38;5;241m.\u001B[39mnode\n",
      "\u001B[0;31mAssertionError\u001B[0m: "
     ]
    }
   ],
   "source": [
    "tbl1 = table.compose(['cardnum.val_id'], 'person.cardnum')\n",
    "print(table1)\n",
    "\n",
    "table2 = tbl1.set_key([\"person.person\"])\n"
   ],
   "metadata": {
    "collapsed": false,
    "ExecuteTime": {
     "end_time": "2023-12-11T07:17:32.325295Z",
     "start_time": "2023-12-11T07:17:32.288069Z"
    }
   },
   "id": "4dc9724785eb7b7f"
  },
  {
   "cell_type": "code",
   "execution_count": null,
   "outputs": [],
   "source": [
    "table1 = table"
   ],
   "metadata": {
    "collapsed": false
   },
   "id": "c37820b87e10bc86"
  },
  {
   "cell_type": "code",
   "execution_count": 12,
   "outputs": [
    {
     "name": "stdout",
     "output_type": "stream",
     "text": [
      "person.cardnum\n",
      "[person.person || person.cardnum]\n",
      "              person.cardnum\n",
      "person.person               \n",
      "Steve           [1111, 2354]\n",
      "Tom                   [1410]\n",
      "Harry                 [6440]\n",
      "Dick                  [5467]\n"
     ]
    }
   ],
   "source": [
    "table = s.get(['person.person']).infer(['person.person'], 'person.cardnum')\n",
    "print(table)"
   ],
   "metadata": {
    "collapsed": false,
    "ExecuteTime": {
     "end_time": "2023-12-11T07:13:03.485687Z",
     "start_time": "2023-12-11T07:13:03.464255Z"
    }
   },
   "id": "6001ed6fa758bb60"
  },
  {
   "cell_type": "code",
   "execution_count": null,
   "outputs": [],
   "source": [
    "table1 = table.show('person.cardnum')\n",
    "print(table1)\n",
    "table2 = table1.hide('person.cardnum')\n",
    "print(table2)"
   ],
   "metadata": {
    "collapsed": false
   },
   "id": "6997c3f01cb8ec48"
  },
  {
   "cell_type": "code",
   "execution_count": 16,
   "outputs": [],
   "source": [
    "s = Schema()\n",
    "cardnum = pd.read_csv(\"./csv/bonuses/cardnum.csv\").set_index(\"val_id\")\n",
    "tstart = pd.read_csv(\"./csv/bonuses/tstart.csv\").set_index(\"val_id\")\n",
    "s.insert_dataframe(cardnum, \"cardnum\")\n",
    "s.insert_dataframe(tstart, \"tstart\")\n",
    "\n",
    "c_cardnum = SchemaNode(\"cardnum\", cluster=\"cardnum\")\n",
    "c_val_id = SchemaNode(\"val_id\", cluster=\"cardnum\")\n",
    "t_val_id = SchemaNode(\"val_id\", cluster=\"tstart\")\n",
    "t_tstart = SchemaNode(\"tstart\", cluster=\"tstart\")\n",
    "\n",
    "s.blend(c_val_id, t_val_id, under=\"Val_id\")"
   ],
   "metadata": {
    "collapsed": false,
    "ExecuteTime": {
     "end_time": "2023-12-11T08:07:25.256467Z",
     "start_time": "2023-12-11T08:07:25.234056Z"
    }
   },
   "id": "7a46b63867e95d65"
  },
  {
   "cell_type": "code",
   "execution_count": 18,
   "outputs": [
    {
     "name": "stdout",
     "output_type": "stream",
     "text": [
      "[tstart.val_id || tstart.tstart]\n",
      "                     tstart.tstart\n",
      "tstart.val_id                     \n",
      "1              2023-01-01 09:50:00\n",
      "2              2023-01-01 11:10:00\n",
      "3              2023-01-01 15:32:00\n",
      "4              2023-01-01 15:34:00\n",
      "5              2023-01-01 20:11:00\n",
      "6              2023-01-01 21:17:00\n",
      "7              2023-01-02 05:34:00\n"
     ]
    }
   ],
   "source": [
    "t1 = s.get([\"tstart.val_id\"]).infer([\"tstart.val_id\"], \"tstart.tstart\")\n",
    "print(t1)"
   ],
   "metadata": {
    "collapsed": false,
    "ExecuteTime": {
     "end_time": "2023-12-11T08:08:34.678453Z",
     "start_time": "2023-12-11T08:08:34.661282Z"
    }
   },
   "id": "3514702d1c90b7b"
  },
  {
   "cell_type": "code",
   "execution_count": 19,
   "outputs": [
    {
     "name": "stdout",
     "output_type": "stream",
     "text": [
      "[Val_id || tstart.tstart]\n",
      "              tstart.tstart\n",
      "Val_id                     \n",
      "1       2023-01-01 09:50:00\n",
      "2       2023-01-01 11:10:00\n",
      "3       2023-01-01 15:32:00\n",
      "4       2023-01-01 15:34:00\n",
      "5       2023-01-01 20:11:00\n",
      "6       2023-01-01 21:17:00\n",
      "7       2023-01-02 05:34:00\n",
      "1 keys hidden\n"
     ]
    }
   ],
   "source": [
    "t1 = s.get([\"Val_id\"]).infer([\"Val_id\"], \"tstart.tstart\")\n",
    "print(t1)"
   ],
   "metadata": {
    "collapsed": false,
    "ExecuteTime": {
     "end_time": "2023-12-11T08:08:45.121741Z",
     "start_time": "2023-12-11T08:08:45.097105Z"
    }
   },
   "id": "ae00a2594db4b78f"
  },
  {
   "cell_type": "code",
   "execution_count": 8,
   "outputs": [],
   "source": [
    "s = Schema()\n",
    "\n",
    "cardnum = pd.read_csv(\"./csv/bonuses/cardnum.csv\").set_index(\"val_id\")\n",
    "tstart = pd.read_csv(\"./csv/bonuses/tstart.csv\").set_index(\"val_id\")\n",
    "bonus = pd.read_csv(\"./csv/bonuses/bonus.csv\").set_index([\"val_id\", \"cardnum\"])\n",
    "\n",
    "s.insert_dataframe(cardnum, \"cardnum\")\n",
    "s.insert_dataframe(tstart, \"tstart\")\n",
    "s.insert_dataframe(bonus, \"bonus\")\n",
    "\n",
    "c_cardnum = SchemaNode(\"cardnum\", cluster=\"cardnum\")\n",
    "b_cardnum = SchemaNode(\"cardnum\", cluster=\"bonus\")\n",
    "c_val_id = SchemaNode(\"val_id\", cluster=\"cardnum\")\n",
    "t_val_id = SchemaNode(\"val_id\", cluster=\"tstart\")\n",
    "b_val_id = SchemaNode(\"val_id\", cluster=\"bonus\")\n",
    "\n",
    "s.blend(c_val_id, t_val_id, under =\"Val_id\")\n",
    "s.blend(c_val_id, b_val_id)\n",
    "s.blend(c_cardnum, b_cardnum, under =\"Cardnum\")"
   ],
   "metadata": {
    "collapsed": false,
    "ExecuteTime": {
     "end_time": "2023-12-11T08:19:06.948693Z",
     "start_time": "2023-12-11T08:19:06.879161Z"
    }
   },
   "id": "7a173b29e1fc16fd"
  },
  {
   "cell_type": "code",
   "execution_count": 9,
   "outputs": [
    {
     "name": "stdout",
     "output_type": "stream",
     "text": [
      "[cardnum.val_id || cardnum.cardnum]\n",
      "                cardnum.cardnum\n",
      "cardnum.val_id                 \n",
      "1                          5172\n",
      "2                          2354\n",
      "3                          1410\n",
      "4                          1111\n",
      "5                          2354\n",
      "8                          4412\n"
     ]
    }
   ],
   "source": [
    "t1 = s.get([\"cardnum.val_id\"]).infer([\"cardnum.val_id\"], \"cardnum.cardnum\")\n",
    "print(t1)\n"
   ],
   "metadata": {
    "collapsed": false,
    "ExecuteTime": {
     "end_time": "2023-12-11T08:19:07.740001Z",
     "start_time": "2023-12-11T08:19:07.726727Z"
    }
   },
   "id": "ffc5dc202adf70cc"
  },
  {
   "cell_type": "code",
   "execution_count": 10,
   "outputs": [
    {
     "name": "stdout",
     "output_type": "stream",
     "text": [
      "[cardnum.val_id || cardnum.cardnum bonus.bonus]\n",
      "                cardnum.cardnum  bonus.bonus\n",
      "cardnum.val_id                              \n",
      "1                          5172  [4.0, 12.0]\n",
      "2                          2354   [5.0, 7.0]\n",
      "3                          1410        [1.0]\n",
      "4                          1111           []\n",
      "5                          2354        [2.0]\n",
      "8                          4412           []\n"
     ]
    }
   ],
   "source": [
    "t2 = t1.infer([\"cardnum.val_id\"], \"bonus.bonus\")\n",
    "print(t2)"
   ],
   "metadata": {
    "collapsed": false,
    "ExecuteTime": {
     "end_time": "2023-12-11T08:19:08.495015Z",
     "start_time": "2023-12-11T08:19:08.464006Z"
    }
   },
   "id": "75f392175cf18d45"
  },
  {
   "cell_type": "code",
   "execution_count": 11,
   "outputs": [
    {
     "name": "stdout",
     "output_type": "stream",
     "text": [
      "[cardnum.val_id cardnum.cardnum || bonus.bonus]\n",
      "                                bonus.bonus\n",
      "cardnum.val_id cardnum.cardnum             \n",
      "1              5172             [4.0, 12.0]\n",
      "2              2354              [5.0, 7.0]\n",
      "3              1410                   [1.0]\n",
      "5              2354                   [2.0]\n",
      "2 keys hidden\n"
     ]
    }
   ],
   "source": [
    "t3 = t2.set_key([\"cardnum.val_id\", \"cardnum.cardnum\"])\n",
    "print(t3)"
   ],
   "metadata": {
    "collapsed": false,
    "ExecuteTime": {
     "end_time": "2023-12-11T08:19:09.150828Z",
     "start_time": "2023-12-11T08:19:09.122479Z"
    }
   },
   "id": "a749659d4fe4a7d3"
  },
  {
   "cell_type": "code",
   "execution_count": 12,
   "outputs": [
    {
     "name": "stdout",
     "output_type": "stream",
     "text": [
      "[cardnum.val_id cardnum.cardnum bonus.cardnum || bonus.bonus]\n",
      "                                              bonus.bonus\n",
      "cardnum.val_id cardnum.cardnum bonus.cardnum             \n",
      "1              5172            5172.0                 4.0\n",
      "                               1410.0                12.0\n",
      "2              2354            1111.0                 5.0\n",
      "                               6440.0                 7.0\n",
      "3              1410            1111.0                 1.0\n",
      "5              2354            1410.0                 2.0\n",
      "2 keys hidden\n"
     ]
    }
   ],
   "source": [
    "t4 = t3.show(\"bonus.cardnum\")\n",
    "print(t4)"
   ],
   "metadata": {
    "collapsed": false,
    "ExecuteTime": {
     "end_time": "2023-12-11T08:19:09.973381Z",
     "start_time": "2023-12-11T08:19:09.939415Z"
    }
   },
   "id": "b4f56b835742b4b7"
  },
  {
   "cell_type": "code",
   "execution_count": 18,
   "outputs": [
    {
     "ename": "NodeAlreadyInSchemaGraphException",
     "evalue": "Node bonuspo is already in schema graph.",
     "output_type": "error",
     "traceback": [
      "\u001B[0;31m---------------------------------------------------------------------------\u001B[0m",
      "\u001B[0;31mNodeAlreadyInSchemaGraphException\u001B[0m         Traceback (most recent call last)",
      "Cell \u001B[0;32mIn[18], line 2\u001B[0m\n\u001B[1;32m      1\u001B[0m t6 \u001B[38;5;241m=\u001B[39m t4\u001B[38;5;241m.\u001B[39mfilter((t4[\u001B[38;5;124m\"\u001B[39m\u001B[38;5;124mcardnum.cardnum\u001B[39m\u001B[38;5;124m\"\u001B[39m] \u001B[38;5;241m==\u001B[39m \u001B[38;5;241m2354\u001B[39m) \u001B[38;5;241m|\u001B[39m (t4[\u001B[38;5;124m\"\u001B[39m\u001B[38;5;124mbonus.cardnum\u001B[39m\u001B[38;5;124m\"\u001B[39m] \u001B[38;5;241m==\u001B[39m \u001B[38;5;241m1111\u001B[39m))\n\u001B[0;32m----> 2\u001B[0m t7 \u001B[38;5;241m=\u001B[39m \u001B[43mt6\u001B[49m\u001B[38;5;241;43m.\u001B[39;49m\u001B[43massign\u001B[49m\u001B[43m(\u001B[49m\u001B[38;5;124;43m\"\u001B[39;49m\u001B[38;5;124;43mbonuspo\u001B[39;49m\u001B[38;5;124;43m\"\u001B[39;49m\u001B[43m,\u001B[49m\u001B[43m \u001B[49m\u001B[43mt6\u001B[49m\u001B[43m[\u001B[49m\u001B[38;5;124;43m\"\u001B[39;49m\u001B[38;5;124;43mbonus.bonus\u001B[39;49m\u001B[38;5;124;43m\"\u001B[39;49m\u001B[43m]\u001B[49m\u001B[43m \u001B[49m\u001B[38;5;241;43m+\u001B[39;49m\u001B[43m \u001B[49m\u001B[38;5;241;43m1\u001B[39;49m\u001B[43m)\u001B[49m\n\u001B[1;32m      3\u001B[0m t8 \u001B[38;5;241m=\u001B[39m t6\u001B[38;5;241m.\u001B[39massign(\u001B[38;5;124m\"\u001B[39m\u001B[38;5;124mbonustimestwo\u001B[39m\u001B[38;5;124m\"\u001B[39m, t6[\u001B[38;5;124m\"\u001B[39m\u001B[38;5;124mbonus.bonus\u001B[39m\u001B[38;5;124m\"\u001B[39m] \u001B[38;5;241m+\u001B[39m t6[\u001B[38;5;124m\"\u001B[39m\u001B[38;5;124mbonus.bonus\u001B[39m\u001B[38;5;124m\"\u001B[39m])\n\u001B[1;32m      4\u001B[0m \u001B[38;5;28mprint\u001B[39m(t8)\n",
      "File \u001B[0;32m~/Documents/Part_II_Project/tables/table.py:425\u001B[0m, in \u001B[0;36mTable.assign\u001B[0;34m(self, name, function)\u001B[0m\n\u001B[1;32m    423\u001B[0m     \u001B[38;5;28;01melse\u001B[39;00m:\n\u001B[1;32m    424\u001B[0m         \u001B[38;5;28;01mraise\u001B[39;00m KeyMismatchException(shk, hk)\n\u001B[0;32m--> 425\u001B[0m end_node \u001B[38;5;241m=\u001B[39m \u001B[38;5;28;43mself\u001B[39;49m\u001B[38;5;241;43m.\u001B[39;49m\u001B[43mschema\u001B[49m\u001B[38;5;241;43m.\u001B[39;49m\u001B[43madd_node\u001B[49m\u001B[43m(\u001B[49m\u001B[43mname\u001B[49m\u001B[43m)\u001B[49m\n\u001B[1;32m    426\u001B[0m edge \u001B[38;5;241m=\u001B[39m \u001B[38;5;28mself\u001B[39m\u001B[38;5;241m.\u001B[39mschema\u001B[38;5;241m.\u001B[39madd_edge(start_node, end_node, function\u001B[38;5;241m.\u001B[39mcardinality)\n\u001B[1;32m    427\u001B[0m \u001B[38;5;28mself\u001B[39m\u001B[38;5;241m.\u001B[39mschema\u001B[38;5;241m.\u001B[39mmap_edge_to_closure_function(edge, function)\n",
      "File \u001B[0;32m~/Documents/Part_II_Project/schema/schema.py:72\u001B[0m, in \u001B[0;36mSchema.add_node\u001B[0;34m(self, name)\u001B[0m\n\u001B[1;32m     71\u001B[0m \u001B[38;5;28;01mdef\u001B[39;00m \u001B[38;5;21madd_node\u001B[39m(\u001B[38;5;28mself\u001B[39m, name):\n\u001B[0;32m---> 72\u001B[0m     node \u001B[38;5;241m=\u001B[39m \u001B[38;5;28;43mself\u001B[39;49m\u001B[38;5;241;43m.\u001B[39;49m\u001B[43mschema_graph\u001B[49m\u001B[38;5;241;43m.\u001B[39;49m\u001B[43mget_node_not_in_graph_with_name\u001B[49m\u001B[43m(\u001B[49m\u001B[43mname\u001B[49m\u001B[38;5;241;43m.\u001B[39;49m\u001B[43mlower\u001B[49m\u001B[43m(\u001B[49m\u001B[43m)\u001B[49m\u001B[43m)\u001B[49m\n\u001B[1;32m     73\u001B[0m     \u001B[38;5;28mself\u001B[39m\u001B[38;5;241m.\u001B[39mschema_graph\u001B[38;5;241m.\u001B[39madd_node(node)\n\u001B[1;32m     74\u001B[0m     \u001B[38;5;28;01mreturn\u001B[39;00m node\n",
      "File \u001B[0;32m~/Documents/Part_II_Project/schema/graph.py:94\u001B[0m, in \u001B[0;36mSchemaGraph.get_node_not_in_graph_with_name\u001B[0;34m(self, name)\u001B[0m\n\u001B[1;32m     92\u001B[0m n \u001B[38;5;241m=\u001B[39m \u001B[38;5;28mself\u001B[39m\u001B[38;5;241m.\u001B[39mget_node_with_name(name)\n\u001B[1;32m     93\u001B[0m \u001B[38;5;28;01mif\u001B[39;00m n \u001B[38;5;129;01min\u001B[39;00m \u001B[38;5;28mself\u001B[39m\u001B[38;5;241m.\u001B[39mschema_nodes:\n\u001B[0;32m---> 94\u001B[0m     \u001B[38;5;28;01mraise\u001B[39;00m NodeAlreadyInSchemaGraphException(n)\n\u001B[1;32m     95\u001B[0m \u001B[38;5;28;01melse\u001B[39;00m:\n\u001B[1;32m     96\u001B[0m     \u001B[38;5;28;01mreturn\u001B[39;00m n\n",
      "\u001B[0;31mNodeAlreadyInSchemaGraphException\u001B[0m: Node bonuspo is already in schema graph."
     ]
    }
   ],
   "source": [
    "t6 = t4.filter((t4[\"cardnum.cardnum\"] == 2354) | (t4[\"bonus.cardnum\"] == 1111))\n",
    "t7 = t6.assign(\"bonuspo\", t6[\"bonus.bonus\"] + 1)\n"
   ],
   "metadata": {
    "collapsed": false,
    "ExecuteTime": {
     "end_time": "2023-12-11T08:20:44.222550Z",
     "start_time": "2023-12-11T08:20:44.136999Z"
    }
   },
   "id": "c11e0cdded1bc306"
  },
  {
   "cell_type": "code",
   "execution_count": 19,
   "outputs": [
    {
     "name": "stdout",
     "output_type": "stream",
     "text": [
      "[cardnum.val_id cardnum.cardnum bonus.cardnum || bonus.bonus bonustimestwo]\n",
      "                                              bonus.bonus  bonustimestwo\n",
      "cardnum.val_id cardnum.cardnum bonus.cardnum                            \n",
      "2              2354            1111.0                 5.0           10.0\n",
      "                               6440.0                 7.0           14.0\n",
      "3              1410            1111.0                 1.0            2.0\n",
      "5              2354            1410.0                 2.0            4.0\n"
     ]
    }
   ],
   "source": [
    "t8 = t6.assign(\"bonustimestwo\", t6[\"bonus.bonus\"] + t6[\"bonus.bonus\"])\n",
    "print(t8)"
   ],
   "metadata": {
    "collapsed": false,
    "ExecuteTime": {
     "end_time": "2023-12-11T08:20:54.233386Z",
     "start_time": "2023-12-11T08:20:54.181056Z"
    }
   },
   "id": "9152eb18a698609d"
  },
  {
   "cell_type": "code",
   "execution_count": 20,
   "outputs": [
    {
     "name": "stdout",
     "output_type": "stream",
     "text": [
      "[cardnum.val_id cardnum.cardnum bonus.cardnum || bonus.bonus bonusplusvalid]\n",
      "                                              bonus.bonus  bonusplusvalid\n",
      "cardnum.val_id cardnum.cardnum bonus.cardnum                             \n",
      "2              2354            1111.0                 5.0             7.0\n",
      "                               6440.0                 7.0             9.0\n",
      "3              1410            1111.0                 1.0             4.0\n",
      "5              2354            1410.0                 2.0             7.0\n",
      "\n"
     ]
    }
   ],
   "source": [
    "t8 = t6.assign(\"bonusplusvalid\", t6[\"bonus.bonus\"] + t6[\"cardnum.val_id\"])\n",
    "print(t8)"
   ],
   "metadata": {
    "collapsed": false,
    "ExecuteTime": {
     "end_time": "2023-12-11T08:21:40.041149Z",
     "start_time": "2023-12-11T08:21:39.976383Z"
    }
   },
   "id": "b5d0ac42a500e5ee"
  },
  {
   "cell_type": "code",
   "execution_count": 25,
   "outputs": [
    {
     "name": "stdout",
     "output_type": "stream",
     "text": [
      "[cardnum.val_id cardnum.cardnum || bonus.bonus]\n",
      "                                bonus.bonus\n",
      "cardnum.val_id cardnum.cardnum             \n",
      "1              5172                     4.0\n"
     ]
    }
   ],
   "source": [
    "t5 = t4.equate(\"cardnum.cardnum\", \"bonus.cardnum\")\n",
    "print(t5)"
   ],
   "metadata": {
    "collapsed": false,
    "ExecuteTime": {
     "end_time": "2023-12-11T08:10:59.939014Z",
     "start_time": "2023-12-11T08:10:59.864788Z"
    }
   },
   "id": "6484288948a6adb2"
  },
  {
   "cell_type": "code",
   "execution_count": null,
   "outputs": [],
   "source": [],
   "metadata": {
    "collapsed": false
   },
   "id": "a105eafdffa91250"
  }
 ],
 "metadata": {
  "kernelspec": {
   "display_name": "Python 3",
   "language": "python",
   "name": "python3"
  },
  "language_info": {
   "codemirror_mode": {
    "name": "ipython",
    "version": 2
   },
   "file_extension": ".py",
   "mimetype": "text/x-python",
   "name": "python",
   "nbconvert_exporter": "python",
   "pygments_lexer": "ipython2",
   "version": "2.7.6"
  }
 },
 "nbformat": 4,
 "nbformat_minor": 5
}
