{
 "cells": [
  {
   "cell_type": "code",
   "execution_count": 20,
   "id": "initial_id",
   "metadata": {
    "collapsed": true,
    "ExecuteTime": {
     "end_time": "2023-12-11T09:45:08.923425Z",
     "start_time": "2023-12-11T09:45:08.787821Z"
    }
   },
   "outputs": [],
   "source": [
    "from schema import *\n",
    "\n",
    "s = Schema()\n",
    "\n",
    "# Load up the CSVs\n",
    "cardnum = pd.read_csv(\"./csv/bonuses/cardnum.csv\").set_index(\"val_id\")\n",
    "person = pd.read_csv(\"./csv/bonuses/person.csv\").set_index(\"cardnum\")\n",
    "\n",
    "# Insert them into the data frames\n",
    "s.insert_dataframe(cardnum, \"cardnum\")\n",
    "s.insert_dataframe(person, \"person\")\n",
    "\n",
    "# Get handles on the nodes now in the schema - may be slightly ugly but\n",
    "# we can slap on a load of syntactic sugar\n",
    "c_cardnum = SchemaNode(\"cardnum\", cluster=\"cardnum\")\n",
    "c_val_id = SchemaNode(\"val_id\", cluster=\"cardnum\")\n",
    "\n",
    "p_cardnum = SchemaNode(\"cardnum\", cluster=\"person\")\n",
    "p_person = SchemaNode(\"person\", cluster=\"person\")\n",
    "\n",
    "s.blend(c_cardnum, p_cardnum, under=\"Cardnum\")"
   ]
  },
  {
   "cell_type": "code",
   "execution_count": 21,
   "outputs": [
    {
     "data": {
      "text/plain": "        cardnum\nval_id         \n1          5172\n2          2354\n3          1410\n4          1111\n5          2354\n8          4412",
      "text/html": "<div>\n<style scoped>\n    .dataframe tbody tr th:only-of-type {\n        vertical-align: middle;\n    }\n\n    .dataframe tbody tr th {\n        vertical-align: top;\n    }\n\n    .dataframe thead th {\n        text-align: right;\n    }\n</style>\n<table border=\"1\" class=\"dataframe\">\n  <thead>\n    <tr style=\"text-align: right;\">\n      <th></th>\n      <th>cardnum</th>\n    </tr>\n    <tr>\n      <th>val_id</th>\n      <th></th>\n    </tr>\n  </thead>\n  <tbody>\n    <tr>\n      <th>1</th>\n      <td>5172</td>\n    </tr>\n    <tr>\n      <th>2</th>\n      <td>2354</td>\n    </tr>\n    <tr>\n      <th>3</th>\n      <td>1410</td>\n    </tr>\n    <tr>\n      <th>4</th>\n      <td>1111</td>\n    </tr>\n    <tr>\n      <th>5</th>\n      <td>2354</td>\n    </tr>\n    <tr>\n      <th>8</th>\n      <td>4412</td>\n    </tr>\n  </tbody>\n</table>\n</div>"
     },
     "execution_count": 21,
     "metadata": {},
     "output_type": "execute_result"
    }
   ],
   "source": [
    "cardnum"
   ],
   "metadata": {
    "collapsed": false,
    "ExecuteTime": {
     "end_time": "2023-12-11T09:45:08.933995Z",
     "start_time": "2023-12-11T09:45:08.812439Z"
    }
   },
   "id": "374547fbf153a2e7"
  },
  {
   "cell_type": "code",
   "execution_count": 22,
   "outputs": [
    {
     "data": {
      "text/plain": "        person\ncardnum       \n1111     Steve\n1410       Tom\n2354     Steve\n6440     Harry\n5467      Dick",
      "text/html": "<div>\n<style scoped>\n    .dataframe tbody tr th:only-of-type {\n        vertical-align: middle;\n    }\n\n    .dataframe tbody tr th {\n        vertical-align: top;\n    }\n\n    .dataframe thead th {\n        text-align: right;\n    }\n</style>\n<table border=\"1\" class=\"dataframe\">\n  <thead>\n    <tr style=\"text-align: right;\">\n      <th></th>\n      <th>person</th>\n    </tr>\n    <tr>\n      <th>cardnum</th>\n      <th></th>\n    </tr>\n  </thead>\n  <tbody>\n    <tr>\n      <th>1111</th>\n      <td>Steve</td>\n    </tr>\n    <tr>\n      <th>1410</th>\n      <td>Tom</td>\n    </tr>\n    <tr>\n      <th>2354</th>\n      <td>Steve</td>\n    </tr>\n    <tr>\n      <th>6440</th>\n      <td>Harry</td>\n    </tr>\n    <tr>\n      <th>5467</th>\n      <td>Dick</td>\n    </tr>\n  </tbody>\n</table>\n</div>"
     },
     "execution_count": 22,
     "metadata": {},
     "output_type": "execute_result"
    }
   ],
   "source": [
    "person"
   ],
   "metadata": {
    "collapsed": false,
    "ExecuteTime": {
     "end_time": "2023-12-11T09:45:08.934464Z",
     "start_time": "2023-12-11T09:45:08.817441Z"
    }
   },
   "id": "1b12bcda681970be"
  },
  {
   "cell_type": "code",
   "execution_count": 23,
   "outputs": [
    {
     "name": "stdout",
     "output_type": "stream",
     "text": [
      "[cardnum.val_id || ]\n",
      "Empty DataFrame\n",
      "Columns: []\n",
      "Index: [1, 2, 3, 4, 5, 8]\n"
     ]
    }
   ],
   "source": [
    "from tables import *\n",
    "table1 = s.get(['cardnum.val_id'])\n",
    "print(table1)"
   ],
   "metadata": {
    "collapsed": false,
    "ExecuteTime": {
     "end_time": "2023-12-11T09:45:08.934617Z",
     "start_time": "2023-12-11T09:45:08.824030Z"
    }
   },
   "id": "df5869941b01a7e7"
  },
  {
   "cell_type": "code",
   "execution_count": 24,
   "outputs": [
    {
     "name": "stdout",
     "output_type": "stream",
     "text": [
      "[cardnum.val_id || cardnum.cardnum]\n",
      "                cardnum.cardnum\n",
      "cardnum.val_id                 \n",
      "1                          5172\n",
      "2                          2354\n",
      "3                          1410\n",
      "4                          1111\n",
      "5                          2354\n",
      "8                          4412\n",
      "\n"
     ]
    }
   ],
   "source": [
    "table2 = table1.infer(['cardnum.val_id'], 'cardnum.cardnum')\n",
    "print(table2)"
   ],
   "metadata": {
    "collapsed": false,
    "ExecuteTime": {
     "end_time": "2023-12-11T09:45:08.934711Z",
     "start_time": "2023-12-11T09:45:08.832164Z"
    }
   },
   "id": "b59704dbc0338129"
  },
  {
   "cell_type": "code",
   "execution_count": 25,
   "outputs": [
    {
     "name": "stdout",
     "output_type": "stream",
     "text": [
      "[cardnum.val_id || cardnum.cardnum person.cardnum]\n",
      "                cardnum.cardnum  person.cardnum\n",
      "cardnum.val_id                                 \n",
      "1                          5172            5172\n",
      "2                          2354            2354\n",
      "5                          2354            2354\n",
      "3                          1410            1410\n",
      "4                          1111            1111\n",
      "8                          4412            4412\n",
      "\n"
     ]
    }
   ],
   "source": [
    "table3 = table2.infer(['cardnum.cardnum'], 'person.cardnum')\n",
    "print(table3)"
   ],
   "metadata": {
    "collapsed": false,
    "ExecuteTime": {
     "end_time": "2023-12-11T09:45:08.934786Z",
     "start_time": "2023-12-11T09:45:08.845097Z"
    }
   },
   "id": "61ba09105fee2042"
  },
  {
   "cell_type": "code",
   "execution_count": 26,
   "outputs": [
    {
     "name": "stdout",
     "output_type": "stream",
     "text": [
      "[cardnum.val_id || cardnum.cardnum person.cardnum person.person]\n",
      "                cardnum.cardnum  person.cardnum person.person\n",
      "cardnum.val_id                                               \n",
      "1.0                      5172.0            5172           NaN\n",
      "2.0                      2354.0            2354         Steve\n",
      "5.0                      2354.0            2354         Steve\n",
      "3.0                      1410.0            1410           Tom\n",
      "4.0                      1111.0            1111         Steve\n",
      "8.0                      4412.0            4412           NaN\n",
      "4 values hidden\n",
      "\n"
     ]
    }
   ],
   "source": [
    "table4 = table3.infer(['person.cardnum'], 'person.person')\n",
    "print(table4)"
   ],
   "metadata": {
    "collapsed": false,
    "ExecuteTime": {
     "end_time": "2023-12-11T09:45:08.935134Z",
     "start_time": "2023-12-11T09:45:08.866771Z"
    }
   },
   "id": "6e245a46fc2dc9e1"
  },
  {
   "cell_type": "code",
   "execution_count": 27,
   "outputs": [
    {
     "name": "stdout",
     "output_type": "stream",
     "text": [
      "[cardnum.val_id || person.person]\n",
      "               person.person\n",
      "cardnum.val_id              \n",
      "2.0                    Steve\n",
      "5.0                    Steve\n",
      "3.0                      Tom\n",
      "4.0                    Steve\n",
      "2 keys hidden\n",
      "2 values hidden\n"
     ]
    }
   ],
   "source": [
    "table = table4.hide('person.cardnum').hide('cardnum.cardnum')\n",
    "print(table)"
   ],
   "metadata": {
    "collapsed": false,
    "ExecuteTime": {
     "end_time": "2023-12-11T09:45:08.942187Z",
     "start_time": "2023-12-11T09:45:08.891545Z"
    }
   },
   "id": "699e1afbc95f06a2"
  },
  {
   "cell_type": "code",
   "execution_count": 28,
   "outputs": [
    {
     "name": "stdout",
     "output_type": "stream",
     "text": [
      "[cardnum.val_id || ]\n",
      "Empty DataFrame\n",
      "Columns: []\n",
      "Index: [1, 2, 3, 4, 5, 8]\n"
     ]
    }
   ],
   "source": [
    "table1 = s.get(['cardnum.val_id'])\n",
    "print(table1)"
   ],
   "metadata": {
    "collapsed": false,
    "ExecuteTime": {
     "end_time": "2023-12-11T09:45:08.989470Z",
     "start_time": "2023-12-11T09:45:08.943104Z"
    }
   },
   "id": "4e4839debfa750fc"
  },
  {
   "cell_type": "code",
   "execution_count": 29,
   "outputs": [
    {
     "name": "stdout",
     "output_type": "stream",
     "text": [
      "[cardnum.val_id || person.person]\n",
      "               person.person\n",
      "cardnum.val_id              \n",
      "2.0                    Steve\n",
      "3.0                      Tom\n",
      "4.0                    Steve\n",
      "5.0                    Steve\n",
      "2 keys hidden\n",
      "2 values hidden\n",
      "\n"
     ]
    }
   ],
   "source": [
    "table2 = table1.infer(['cardnum.val_id'], 'person.person')\n",
    "print(table2)"
   ],
   "metadata": {
    "collapsed": false,
    "ExecuteTime": {
     "end_time": "2023-12-11T09:45:09.079660Z",
     "start_time": "2023-12-11T09:45:08.957109Z"
    }
   },
   "id": "17b76ee146606cae"
  },
  {
   "cell_type": "code",
   "execution_count": 30,
   "outputs": [
    {
     "name": "stdout",
     "output_type": "stream",
     "text": [
      "[person.person || cardnum.val_id]\n",
      "                cardnum.val_id\n",
      "person.person                 \n",
      "Steve          [2.0, 4.0, 5.0]\n",
      "Tom                      [3.0]\n",
      "3 keys hidden\n"
     ]
    }
   ],
   "source": [
    "table3 = table2.set_key([\"person.person\"])\n",
    "print(table3)"
   ],
   "metadata": {
    "collapsed": false,
    "ExecuteTime": {
     "end_time": "2023-12-11T09:45:09.080186Z",
     "start_time": "2023-12-11T09:45:08.968249Z"
    }
   },
   "id": "136fea59f59fc636"
  },
  {
   "cell_type": "code",
   "execution_count": 31,
   "outputs": [
    {
     "name": "stdout",
     "output_type": "stream",
     "text": [
      "[person.person cardnum.val_id || cardnum.val_id]\n",
      "                              cardnum.val_id\n",
      "person.person cardnum.val_id                \n",
      "Steve         2.0                        2.0\n",
      "Tom           3.0                        3.0\n",
      "Steve         4.0                        4.0\n",
      "              5.0                        5.0\n",
      "2 keys hidden\n",
      "2 values hidden\n",
      "\n"
     ]
    }
   ],
   "source": [
    "table4 = table3.show(\"cardnum.val_id\")\n",
    "print(table4)"
   ],
   "metadata": {
    "collapsed": false,
    "ExecuteTime": {
     "end_time": "2023-12-11T09:45:09.178119Z",
     "start_time": "2023-12-11T09:45:08.986513Z"
    }
   },
   "id": "3eefd0cdd41488ce"
  },
  {
   "cell_type": "code",
   "execution_count": 32,
   "outputs": [
    {
     "name": "stdout",
     "output_type": "stream",
     "text": [
      "[person.person || cardnum.val_id]\n",
      "                cardnum.val_id\n",
      "person.person                 \n",
      "Steve          [2.0, 4.0, 5.0]\n",
      "Tom                      [3.0]\n",
      "3 keys hidden\n",
      "\n"
     ]
    }
   ],
   "source": [
    "table5 = table4.hide(\"cardnum.val_id\")\n",
    "print(table5)"
   ],
   "metadata": {
    "collapsed": false,
    "ExecuteTime": {
     "end_time": "2023-12-11T09:45:09.208443Z",
     "start_time": "2023-12-11T09:45:09.087580Z"
    }
   },
   "id": "bfcfe24547ddb01e"
  },
  {
   "cell_type": "code",
   "execution_count": 33,
   "outputs": [
    {
     "name": "stdout",
     "output_type": "stream",
     "text": [
      "[cardnum.val_id || person.person]\n",
      "               person.person\n",
      "cardnum.val_id              \n",
      "2.0                    Steve\n",
      "3.0                      Tom\n",
      "4.0                    Steve\n",
      "5.0                    Steve\n",
      "2 keys hidden\n",
      "2 values hidden\n",
      "\n"
     ]
    }
   ],
   "source": [
    "table6 = table5.set_key([\"cardnum.val_id\"])\n",
    "print(table6)"
   ],
   "metadata": {
    "collapsed": false,
    "ExecuteTime": {
     "end_time": "2023-12-11T09:45:09.208909Z",
     "start_time": "2023-12-11T09:45:09.120236Z"
    }
   },
   "id": "b6bd2e45a1adc779"
  },
  {
   "cell_type": "code",
   "execution_count": 34,
   "outputs": [
    {
     "name": "stdout",
     "output_type": "stream",
     "text": [
      "[person.cardnum || person.person]\n",
      "               person.person\n",
      "person.cardnum              \n",
      "1111                   Steve\n",
      "1410                     Tom\n",
      "2354                   Steve\n",
      "6440                   Harry\n",
      "5467                    Dick\n"
     ]
    }
   ],
   "source": [
    "table = (s.get(['person.cardnum']).infer(['person.cardnum'], 'person.person'))\n",
    "print(table)"
   ],
   "metadata": {
    "collapsed": false,
    "ExecuteTime": {
     "end_time": "2023-12-11T09:45:09.209065Z",
     "start_time": "2023-12-11T09:45:09.147053Z"
    }
   },
   "id": "befb98b90e126167"
  },
  {
   "cell_type": "code",
   "execution_count": 35,
   "outputs": [
    {
     "name": "stdout",
     "output_type": "stream",
     "text": [
      "[cardnum.val_id || ]\n",
      "Empty DataFrame\n",
      "Columns: []\n",
      "Index: [1, 2, 3, 4, 5, 8]\n",
      "\n"
     ]
    }
   ],
   "source": [
    "tbl1 = table.compose(['cardnum.val_id'], 'person.cardnum')\n",
    "print(table1)\n",
    "\n",
    "table2 = tbl1.set_key([\"person.person\"])\n"
   ],
   "metadata": {
    "collapsed": false,
    "ExecuteTime": {
     "end_time": "2023-12-11T09:45:09.237068Z",
     "start_time": "2023-12-11T09:45:09.166908Z"
    }
   },
   "id": "4dc9724785eb7b7f"
  },
  {
   "cell_type": "code",
   "execution_count": 36,
   "outputs": [],
   "source": [
    "table1 = table"
   ],
   "metadata": {
    "collapsed": false,
    "ExecuteTime": {
     "end_time": "2023-12-11T09:45:09.237422Z",
     "start_time": "2023-12-11T09:45:09.196522Z"
    }
   },
   "id": "c37820b87e10bc86"
  },
  {
   "cell_type": "code",
   "execution_count": 37,
   "outputs": [
    {
     "name": "stdout",
     "output_type": "stream",
     "text": [
      "person.cardnum\n",
      "[person.person || person.cardnum]\n",
      "              person.cardnum\n",
      "person.person               \n",
      "Steve           [1111, 2354]\n",
      "Tom                   [1410]\n",
      "Harry                 [6440]\n",
      "Dick                  [5467]\n",
      "\n"
     ]
    }
   ],
   "source": [
    "table = s.get(['person.person']).infer(['person.person'], 'person.cardnum')\n",
    "print(table)"
   ],
   "metadata": {
    "collapsed": false,
    "ExecuteTime": {
     "end_time": "2023-12-11T09:45:09.240889Z",
     "start_time": "2023-12-11T09:45:09.200222Z"
    }
   },
   "id": "6001ed6fa758bb60"
  },
  {
   "cell_type": "code",
   "execution_count": 38,
   "outputs": [
    {
     "name": "stdout",
     "output_type": "stream",
     "text": [
      "[person.person person.cardnum || person.cardnum]\n",
      "                              person.cardnum\n",
      "person.person person.cardnum                \n",
      "Steve         1111                      1111\n",
      "              2354                      2354\n",
      "Tom           1410                      1410\n",
      "Harry         6440                      6440\n",
      "Dick          5467                      5467\n",
      "\n",
      "\n",
      "[person.person || person.cardnum]\n",
      "              person.cardnum\n",
      "person.person               \n",
      "Steve           [1111, 2354]\n",
      "Tom                   [1410]\n",
      "Harry                 [6440]\n",
      "Dick                  [5467]\n"
     ]
    }
   ],
   "source": [
    "table1 = table.show('person.cardnum')\n",
    "print(table1)\n",
    "table2 = table1.hide('person.cardnum')\n",
    "print(table2)"
   ],
   "metadata": {
    "collapsed": false,
    "ExecuteTime": {
     "end_time": "2023-12-11T09:45:09.255587Z",
     "start_time": "2023-12-11T09:45:09.220636Z"
    }
   },
   "id": "6997c3f01cb8ec48"
  },
  {
   "cell_type": "code",
   "execution_count": 39,
   "outputs": [],
   "source": [
    "s = Schema()\n",
    "cardnum = pd.read_csv(\"./csv/bonuses/cardnum.csv\").set_index(\"val_id\")\n",
    "tstart = pd.read_csv(\"./csv/bonuses/tstart.csv\").set_index(\"val_id\")\n",
    "s.insert_dataframe(cardnum, \"cardnum\")\n",
    "s.insert_dataframe(tstart, \"tstart\")\n",
    "\n",
    "c_cardnum = SchemaNode(\"cardnum\", cluster=\"cardnum\")\n",
    "c_val_id = SchemaNode(\"val_id\", cluster=\"cardnum\")\n",
    "t_val_id = SchemaNode(\"val_id\", cluster=\"tstart\")\n",
    "t_tstart = SchemaNode(\"tstart\", cluster=\"tstart\")\n",
    "\n",
    "s.blend(c_val_id, t_val_id, under=\"Val_id\")"
   ],
   "metadata": {
    "collapsed": false,
    "ExecuteTime": {
     "end_time": "2023-12-11T09:45:09.295702Z",
     "start_time": "2023-12-11T09:45:09.253264Z"
    }
   },
   "id": "7a46b63867e95d65"
  },
  {
   "cell_type": "code",
   "execution_count": 40,
   "outputs": [
    {
     "name": "stdout",
     "output_type": "stream",
     "text": [
      "[tstart.val_id || tstart.tstart]\n",
      "                     tstart.tstart\n",
      "tstart.val_id                     \n",
      "1              2023-01-01 09:50:00\n",
      "2              2023-01-01 11:10:00\n",
      "3              2023-01-01 15:32:00\n",
      "4              2023-01-01 15:34:00\n",
      "5              2023-01-01 20:11:00\n",
      "6              2023-01-01 21:17:00\n",
      "7              2023-01-02 05:34:00\n",
      "\n"
     ]
    }
   ],
   "source": [
    "t1 = s.get([\"tstart.val_id\"]).infer([\"tstart.val_id\"], \"tstart.tstart\")\n",
    "print(t1)"
   ],
   "metadata": {
    "collapsed": false,
    "ExecuteTime": {
     "end_time": "2023-12-11T09:45:09.301309Z",
     "start_time": "2023-12-11T09:45:09.265798Z"
    }
   },
   "id": "3514702d1c90b7b"
  },
  {
   "cell_type": "code",
   "execution_count": 41,
   "outputs": [
    {
     "name": "stdout",
     "output_type": "stream",
     "text": [
      "[Val_id || tstart.tstart]\n",
      "              tstart.tstart\n",
      "Val_id                     \n",
      "1       2023-01-01 09:50:00\n",
      "2       2023-01-01 11:10:00\n",
      "3       2023-01-01 15:32:00\n",
      "4       2023-01-01 15:34:00\n",
      "5       2023-01-01 20:11:00\n",
      "6       2023-01-01 21:17:00\n",
      "7       2023-01-02 05:34:00\n",
      "1 keys hidden\n"
     ]
    }
   ],
   "source": [
    "t1 = s.get([\"Val_id\"]).infer([\"Val_id\"], \"tstart.tstart\")\n",
    "print(t1)"
   ],
   "metadata": {
    "collapsed": false,
    "ExecuteTime": {
     "end_time": "2023-12-11T09:45:09.301599Z",
     "start_time": "2023-12-11T09:45:09.284137Z"
    }
   },
   "id": "ae00a2594db4b78f"
  },
  {
   "cell_type": "code",
   "execution_count": 42,
   "outputs": [],
   "source": [
    "s = Schema()\n",
    "\n",
    "cardnum = pd.read_csv(\"./csv/bonuses/cardnum.csv\").set_index(\"val_id\")\n",
    "tstart = pd.read_csv(\"./csv/bonuses/tstart.csv\").set_index(\"val_id\")\n",
    "bonus = pd.read_csv(\"./csv/bonuses/bonus.csv\").set_index([\"val_id\", \"cardnum\"])\n",
    "\n",
    "s.insert_dataframe(cardnum, \"cardnum\")\n",
    "s.insert_dataframe(tstart, \"tstart\")\n",
    "s.insert_dataframe(bonus, \"bonus\")\n",
    "\n",
    "c_cardnum = SchemaNode(\"cardnum\", cluster=\"cardnum\")\n",
    "b_cardnum = SchemaNode(\"cardnum\", cluster=\"bonus\")\n",
    "c_val_id = SchemaNode(\"val_id\", cluster=\"cardnum\")\n",
    "t_val_id = SchemaNode(\"val_id\", cluster=\"tstart\")\n",
    "b_val_id = SchemaNode(\"val_id\", cluster=\"bonus\")\n",
    "\n",
    "s.blend(c_val_id, t_val_id, under =\"Val_id\")\n",
    "s.blend(c_val_id, b_val_id)\n",
    "s.blend(c_cardnum, b_cardnum, under =\"Cardnum\")"
   ],
   "metadata": {
    "collapsed": false,
    "ExecuteTime": {
     "end_time": "2023-12-11T09:45:09.342720Z",
     "start_time": "2023-12-11T09:45:09.297475Z"
    }
   },
   "id": "7a173b29e1fc16fd"
  },
  {
   "cell_type": "code",
   "execution_count": 43,
   "outputs": [
    {
     "name": "stdout",
     "output_type": "stream",
     "text": [
      "[cardnum.val_id || cardnum.cardnum]\n",
      "                cardnum.cardnum\n",
      "cardnum.val_id                 \n",
      "1                          5172\n",
      "2                          2354\n",
      "3                          1410\n",
      "4                          1111\n",
      "5                          2354\n",
      "8                          4412\n",
      "\n"
     ]
    }
   ],
   "source": [
    "t1 = s.get([\"cardnum.val_id\"]).infer([\"cardnum.val_id\"], \"cardnum.cardnum\")\n",
    "print(t1)\n"
   ],
   "metadata": {
    "collapsed": false,
    "ExecuteTime": {
     "end_time": "2023-12-11T09:45:09.348240Z",
     "start_time": "2023-12-11T09:45:09.322861Z"
    }
   },
   "id": "ffc5dc202adf70cc"
  },
  {
   "cell_type": "code",
   "execution_count": 44,
   "outputs": [
    {
     "name": "stdout",
     "output_type": "stream",
     "text": [
      "[cardnum.val_id || cardnum.cardnum bonus.bonus]\n",
      "                cardnum.cardnum  bonus.bonus\n",
      "cardnum.val_id                              \n",
      "1                          5172  [4.0, 12.0]\n",
      "2                          2354   [5.0, 7.0]\n",
      "3                          1410        [1.0]\n",
      "4                          1111           []\n",
      "5                          2354        [2.0]\n",
      "8                          4412           []\n"
     ]
    }
   ],
   "source": [
    "t2 = t1.infer([\"cardnum.val_id\"], \"bonus.bonus\")\n",
    "print(t2)"
   ],
   "metadata": {
    "collapsed": false,
    "ExecuteTime": {
     "end_time": "2023-12-11T09:45:09.359955Z",
     "start_time": "2023-12-11T09:45:09.357697Z"
    }
   },
   "id": "75f392175cf18d45"
  },
  {
   "cell_type": "code",
   "execution_count": 45,
   "outputs": [
    {
     "name": "stdout",
     "output_type": "stream",
     "text": [
      "[cardnum.val_id cardnum.cardnum || bonus.bonus]\n",
      "                                bonus.bonus\n",
      "cardnum.val_id cardnum.cardnum             \n",
      "1              5172             [4.0, 12.0]\n",
      "2              2354              [5.0, 7.0]\n",
      "3              1410                   [1.0]\n",
      "5              2354                   [2.0]\n",
      "2 keys hidden\n"
     ]
    }
   ],
   "source": [
    "t3 = t2.set_key([\"cardnum.val_id\", \"cardnum.cardnum\"])\n",
    "print(t3)"
   ],
   "metadata": {
    "collapsed": false,
    "ExecuteTime": {
     "end_time": "2023-12-11T09:45:09.393460Z",
     "start_time": "2023-12-11T09:45:09.365756Z"
    }
   },
   "id": "a749659d4fe4a7d3"
  },
  {
   "cell_type": "code",
   "execution_count": 46,
   "outputs": [
    {
     "name": "stdout",
     "output_type": "stream",
     "text": [
      "[cardnum.val_id cardnum.cardnum bonus.cardnum || bonus.bonus]\n",
      "                                              bonus.bonus\n",
      "cardnum.val_id cardnum.cardnum bonus.cardnum             \n",
      "1              5172            5172.0                 4.0\n",
      "                               1410.0                12.0\n",
      "2              2354            1111.0                 5.0\n",
      "                               6440.0                 7.0\n",
      "3              1410            1111.0                 1.0\n",
      "5              2354            1410.0                 2.0\n",
      "2 keys hidden\n"
     ]
    }
   ],
   "source": [
    "t4 = t3.show(\"bonus.cardnum\")\n",
    "print(t4)"
   ],
   "metadata": {
    "collapsed": false,
    "ExecuteTime": {
     "end_time": "2023-12-11T09:45:09.434277Z",
     "start_time": "2023-12-11T09:45:09.388715Z"
    }
   },
   "id": "b4f56b835742b4b7"
  },
  {
   "cell_type": "code",
   "execution_count": 47,
   "outputs": [],
   "source": [
    "t6 = t4.filter((t4[\"cardnum.cardnum\"] == 2354) | (t4[\"bonus.cardnum\"] == 1111))\n",
    "t7 = t6.assign(\"bonuspo\", t6[\"bonus.bonus\"] + 1)\n"
   ],
   "metadata": {
    "collapsed": false,
    "ExecuteTime": {
     "end_time": "2023-12-11T09:45:09.484255Z",
     "start_time": "2023-12-11T09:45:09.420600Z"
    }
   },
   "id": "c11e0cdded1bc306"
  },
  {
   "cell_type": "code",
   "execution_count": 48,
   "outputs": [
    {
     "name": "stdout",
     "output_type": "stream",
     "text": [
      "[cardnum.val_id cardnum.cardnum bonus.cardnum || bonus.bonus bonustimestwo]\n",
      "                                              bonus.bonus  bonustimestwo\n",
      "cardnum.val_id cardnum.cardnum bonus.cardnum                            \n",
      "2              2354            1111.0                 5.0           10.0\n",
      "                               6440.0                 7.0           14.0\n",
      "3              1410            1111.0                 1.0            2.0\n",
      "5              2354            1410.0                 2.0            4.0\n"
     ]
    }
   ],
   "source": [
    "t8 = t6.assign(\"bonustimestwo\", t6[\"bonus.bonus\"] + t6[\"bonus.bonus\"])\n",
    "print(t8)"
   ],
   "metadata": {
    "collapsed": false,
    "ExecuteTime": {
     "end_time": "2023-12-11T09:45:09.526779Z",
     "start_time": "2023-12-11T09:45:09.484604Z"
    }
   },
   "id": "9152eb18a698609d"
  },
  {
   "cell_type": "code",
   "execution_count": 49,
   "outputs": [
    {
     "name": "stdout",
     "output_type": "stream",
     "text": [
      "[cardnum.val_id cardnum.cardnum bonus.cardnum || bonus.bonus bonusplusvalid]\n",
      "                                              bonus.bonus  bonusplusvalid\n",
      "cardnum.val_id cardnum.cardnum bonus.cardnum                             \n",
      "2              2354            1111.0                 5.0             7.0\n",
      "                               6440.0                 7.0             9.0\n",
      "3              1410            1111.0                 1.0             4.0\n",
      "5              2354            1410.0                 2.0             7.0\n"
     ]
    }
   ],
   "source": [
    "t8 = t6.assign(\"bonusplusvalid\", t6[\"bonus.bonus\"] + t6[\"cardnum.val_id\"])\n",
    "print(t8)"
   ],
   "metadata": {
    "collapsed": false,
    "ExecuteTime": {
     "end_time": "2023-12-11T09:45:09.573237Z",
     "start_time": "2023-12-11T09:45:09.527616Z"
    }
   },
   "id": "b5d0ac42a500e5ee"
  },
  {
   "cell_type": "code",
   "execution_count": 50,
   "outputs": [
    {
     "name": "stdout",
     "output_type": "stream",
     "text": [
      "[cardnum.val_id cardnum.cardnum || bonus.bonus]\n",
      "                                bonus.bonus\n",
      "cardnum.val_id cardnum.cardnum             \n",
      "1              5172                     4.0\n",
      "\n"
     ]
    }
   ],
   "source": [
    "t5 = t4.equate(\"cardnum.cardnum\", \"bonus.cardnum\")\n",
    "print(t5)"
   ],
   "metadata": {
    "collapsed": false,
    "ExecuteTime": {
     "end_time": "2023-12-11T09:45:09.656629Z",
     "start_time": "2023-12-11T09:45:09.577823Z"
    }
   },
   "id": "6484288948a6adb2"
  },
  {
   "cell_type": "code",
   "execution_count": 50,
   "outputs": [],
   "source": [],
   "metadata": {
    "collapsed": false,
    "ExecuteTime": {
     "end_time": "2023-12-11T09:45:09.656797Z",
     "start_time": "2023-12-11T09:45:09.645920Z"
    }
   },
   "id": "a105eafdffa91250"
  }
 ],
 "metadata": {
  "kernelspec": {
   "display_name": "Python 3",
   "language": "python",
   "name": "python3"
  },
  "language_info": {
   "codemirror_mode": {
    "name": "ipython",
    "version": 2
   },
   "file_extension": ".py",
   "mimetype": "text/x-python",
   "name": "python",
   "nbconvert_exporter": "python",
   "pygments_lexer": "ipython2",
   "version": "2.7.6"
  }
 },
 "nbformat": 4,
 "nbformat_minor": 5
}
