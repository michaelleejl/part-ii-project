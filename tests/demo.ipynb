{
 "cells": [
  {
   "cell_type": "code",
   "execution_count": 1,
   "id": "initial_id",
   "metadata": {
    "collapsed": true,
    "ExecuteTime": {
     "end_time": "2023-12-09T09:35:09.241478Z",
     "start_time": "2023-12-09T09:35:08.320349Z"
    }
   },
   "outputs": [
    {
     "name": "stdout",
     "output_type": "stream",
     "text": [
      "Intel MKL WARNING: Support of Intel(R) Streaming SIMD Extensions 4.2 (Intel(R) SSE4.2) enabled only processors has been deprecated. Intel oneAPI Math Kernel Library 2025.0 will require Intel(R) Advanced Vector Extensions (Intel(R) AVX) instructions.\n",
      "Intel MKL WARNING: Support of Intel(R) Streaming SIMD Extensions 4.2 (Intel(R) SSE4.2) enabled only processors has been deprecated. Intel oneAPI Math Kernel Library 2025.0 will require Intel(R) Advanced Vector Extensions (Intel(R) AVX) instructions.\n"
     ]
    }
   ],
   "source": [
    "from schema import *\n",
    "\n",
    "s = Schema()\n",
    "\n",
    "# Load up the CSVs\n",
    "cardnum = pd.read_csv(\"./csv/bonuses/cardnum.csv\").set_index(\"val_id\")\n",
    "person = pd.read_csv(\"./csv/bonuses/person.csv\").set_index(\"cardnum\")\n",
    "\n",
    "# Insert them into the data frames\n",
    "s.insert_dataframe(cardnum, \"cardnum\")\n",
    "s.insert_dataframe(person, \"person\")\n",
    "\n",
    "# Get handles on the nodes now in the schema - may be slightly ugly but\n",
    "# we can slap on a load of syntactic sugar\n",
    "c_cardnum = SchemaNode(\"cardnum\", cluster=\"cardnum\")\n",
    "c_val_id = SchemaNode(\"val_id\", cluster=\"cardnum\")\n",
    "p_cardnum = SchemaNode(\"cardnum\", cluster=\"person\")\n",
    "p_person = SchemaNode(\"person\", cluster=\"person\")\n",
    "\n",
    "s.blend(c_cardnum, p_cardnum, under=\"Cardnum\")"
   ]
  },
  {
   "cell_type": "code",
   "execution_count": 2,
   "outputs": [
    {
     "name": "stdout",
     "output_type": "stream",
     "text": [
      "[cardnum.cardnum || ]\n",
      "Empty DataFrame\n",
      "Columns: []\n",
      "Index: [5172, 2354, 1410, 1111, 4412]\n"
     ]
    }
   ],
   "source": [
    "from tables import *\n",
    "\n",
    "t1 = s.get([\"cardnum.cardnum\"])\n",
    "print(t1)"
   ],
   "metadata": {
    "collapsed": false,
    "ExecuteTime": {
     "end_time": "2023-12-09T09:35:12.132247Z",
     "start_time": "2023-12-09T09:35:12.124369Z"
    }
   },
   "id": "df5869941b01a7e7"
  },
  {
   "cell_type": "code",
   "execution_count": 4,
   "outputs": [
    {
     "name": "stdout",
     "output_type": "stream",
     "text": [
      "[cardnum.cardnum || person.person]\n",
      "                person.person\n",
      "cardnum.cardnum              \n",
      "2354.0                  Steve\n",
      "1410.0                    Tom\n",
      "1111.0                  Steve\n"
     ]
    }
   ],
   "source": [
    "t2 = t1.infer([\"cardnum.cardnum\"], \"person.person\")\n",
    "print(t2)"
   ],
   "metadata": {
    "collapsed": false,
    "ExecuteTime": {
     "end_time": "2023-12-09T09:35:19.760718Z",
     "start_time": "2023-12-09T09:35:19.753976Z"
    }
   },
   "id": "b59704dbc0338129"
  },
  {
   "cell_type": "code",
   "execution_count": null,
   "outputs": [],
   "source": [
    "print"
   ],
   "metadata": {
    "collapsed": false
   },
   "id": "61ba09105fee2042"
  }
 ],
 "metadata": {
  "kernelspec": {
   "display_name": "Python 3",
   "language": "python",
   "name": "python3"
  },
  "language_info": {
   "codemirror_mode": {
    "name": "ipython",
    "version": 2
   },
   "file_extension": ".py",
   "mimetype": "text/x-python",
   "name": "python",
   "nbconvert_exporter": "python",
   "pygments_lexer": "ipython2",
   "version": "2.7.6"
  }
 },
 "nbformat": 4,
 "nbformat_minor": 5
}
