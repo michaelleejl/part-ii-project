{
 "cells": [
  {
   "cell_type": "code",
   "execution_count": 1,
   "id": "initial_id",
   "metadata": {
    "collapsed": true,
    "ExecuteTime": {
     "end_time": "2023-12-09T12:26:38.214463Z",
     "start_time": "2023-12-09T12:26:37.316101Z"
    }
   },
   "outputs": [
    {
     "name": "stdout",
     "output_type": "stream",
     "text": [
      "Intel MKL WARNING: Support of Intel(R) Streaming SIMD Extensions 4.2 (Intel(R) SSE4.2) enabled only processors has been deprecated. Intel oneAPI Math Kernel Library 2025.0 will require Intel(R) Advanced Vector Extensions (Intel(R) AVX) instructions.\n",
      "Intel MKL WARNING: Support of Intel(R) Streaming SIMD Extensions 4.2 (Intel(R) SSE4.2) enabled only processors has been deprecated. Intel oneAPI Math Kernel Library 2025.0 will require Intel(R) Advanced Vector Extensions (Intel(R) AVX) instructions.\n"
     ]
    }
   ],
   "source": [
    "from schema import *\n",
    "\n",
    "s = Schema()\n",
    "\n",
    "# Load up the CSVs\n",
    "cardnum = pd.read_csv(\"./csv/bonuses/cardnum.csv\").set_index(\"val_id\")\n",
    "person = pd.read_csv(\"./csv/bonuses/person.csv\").set_index(\"cardnum\")\n",
    "\n",
    "# Insert them into the data frames\n",
    "s.insert_dataframe(cardnum, \"cardnum\")\n",
    "s.insert_dataframe(person, \"person\")\n",
    "\n",
    "# Get handles on the nodes now in the schema - may be slightly ugly but\n",
    "# we can slap on a load of syntactic sugar\n",
    "c_cardnum = SchemaNode(\"cardnum\", cluster=\"cardnum\")\n",
    "c_val_id = SchemaNode(\"val_id\", cluster=\"cardnum\")\n",
    "\n",
    "p_cardnum = SchemaNode(\"cardnum\", cluster=\"person\")\n",
    "p_person = SchemaNode(\"person\", cluster=\"person\")\n",
    "\n",
    "s.blend(c_cardnum, p_cardnum, under=\"Cardnum\")"
   ]
  },
  {
   "cell_type": "code",
   "execution_count": 2,
   "outputs": [
    {
     "name": "stdout",
     "output_type": "stream",
     "text": [
      "[cardnum.val_id || ]\n",
      "Empty DataFrame\n",
      "Columns: []\n",
      "Index: [1, 2, 3, 4, 5, 8]\n"
     ]
    }
   ],
   "source": [
    "from tables import *\n",
    "table1 = s.get(['cardnum.val_id'])\n",
    "print(table1)"
   ],
   "metadata": {
    "collapsed": false,
    "ExecuteTime": {
     "end_time": "2023-12-09T12:26:38.224114Z",
     "start_time": "2023-12-09T12:26:38.216092Z"
    }
   },
   "id": "df5869941b01a7e7"
  },
  {
   "cell_type": "code",
   "execution_count": 3,
   "outputs": [
    {
     "name": "stdout",
     "output_type": "stream",
     "text": [
      "[cardnum.val_id]\n",
      "[cardnum.val_id || cardnum.cardnum]\n",
      "                cardnum.cardnum\n",
      "cardnum.val_id                 \n",
      "1                          5172\n",
      "2                          2354\n",
      "3                          1410\n",
      "4                          1111\n",
      "5                          2354\n",
      "8                          4412\n"
     ]
    }
   ],
   "source": [
    "table2 = table1.infer(['cardnum.val_id'], 'cardnum.cardnum')\n",
    "print(table2)"
   ],
   "metadata": {
    "collapsed": false,
    "ExecuteTime": {
     "end_time": "2023-12-09T12:26:38.237027Z",
     "start_time": "2023-12-09T12:26:38.232363Z"
    }
   },
   "id": "b59704dbc0338129"
  },
  {
   "cell_type": "code",
   "execution_count": 4,
   "outputs": [
    {
     "name": "stdout",
     "output_type": "stream",
     "text": [
      "[cardnum.val_id]\n",
      "[cardnum.cardnum]\n",
      "[cardnum.val_id || cardnum.cardnum person.cardnum]\n",
      "                cardnum.cardnum  person.cardnum\n",
      "cardnum.val_id                                 \n",
      "1                          5172            5172\n",
      "2                          2354            2354\n",
      "5                          2354            2354\n",
      "3                          1410            1410\n",
      "4                          1111            1111\n",
      "8                          4412            4412\n"
     ]
    }
   ],
   "source": [
    "table3 = table2.infer(['cardnum.cardnum'], 'person.cardnum')\n",
    "print(table3)"
   ],
   "metadata": {
    "collapsed": false,
    "ExecuteTime": {
     "end_time": "2023-12-09T12:26:38.264054Z",
     "start_time": "2023-12-09T12:26:38.236045Z"
    }
   },
   "id": "61ba09105fee2042"
  },
  {
   "cell_type": "code",
   "execution_count": 5,
   "outputs": [
    {
     "name": "stdout",
     "output_type": "stream",
     "text": [
      "[cardnum.val_id]\n",
      "[cardnum.cardnum]\n",
      "[person.cardnum]\n",
      "person.cardnum\n",
      "DKEYS: person.cardnum\n"
     ]
    },
    {
     "ename": "TypeError",
     "evalue": "'Column' object is not iterable",
     "output_type": "error",
     "traceback": [
      "\u001B[0;31m---------------------------------------------------------------------------\u001B[0m",
      "\u001B[0;31mTypeError\u001B[0m                                 Traceback (most recent call last)",
      "Cell \u001B[0;32mIn[5], line 1\u001B[0m\n\u001B[0;32m----> 1\u001B[0m table4 \u001B[38;5;241m=\u001B[39m \u001B[43mtable3\u001B[49m\u001B[38;5;241;43m.\u001B[39;49m\u001B[43minfer\u001B[49m\u001B[43m(\u001B[49m\u001B[43m[\u001B[49m\u001B[38;5;124;43m'\u001B[39;49m\u001B[38;5;124;43mperson.cardnum\u001B[39;49m\u001B[38;5;124;43m'\u001B[39;49m\u001B[43m]\u001B[49m\u001B[43m,\u001B[49m\u001B[43m \u001B[49m\u001B[38;5;124;43m'\u001B[39;49m\u001B[38;5;124;43mperson.person\u001B[39;49m\u001B[38;5;124;43m'\u001B[39;49m\u001B[43m)\u001B[49m\n\u001B[1;32m      2\u001B[0m \u001B[38;5;28mprint\u001B[39m(table4)\n",
      "File \u001B[0;32m~/Documents/Part_II_Project/tables/table.py:162\u001B[0m, in \u001B[0;36mTable.infer\u001B[0;34m(self, from_columns, to_column, via, with_name)\u001B[0m\n\u001B[1;32m    159\u001B[0m new_derivation \u001B[38;5;241m=\u001B[39m d[:\u001B[38;5;241m-\u001B[39m\u001B[38;5;241m1\u001B[39m] \u001B[38;5;241m+\u001B[39m [Rename({old_name: name} \u001B[38;5;241m|\u001B[39m mapping), d[\u001B[38;5;241m-\u001B[39m\u001B[38;5;241m1\u001B[39m], End(keys, hidden_keys_cols, vals)]\n\u001B[1;32m    161\u001B[0m new_table\u001B[38;5;241m.\u001B[39mderivation \u001B[38;5;241m=\u001B[39m \u001B[38;5;28mself\u001B[39m\u001B[38;5;241m.\u001B[39mderivation[:\u001B[38;5;241m-\u001B[39m\u001B[38;5;241m1\u001B[39m] \u001B[38;5;241m+\u001B[39m new_derivation\n\u001B[0;32m--> 162\u001B[0m new_table\u001B[38;5;241m.\u001B[39mdf \u001B[38;5;241m=\u001B[39m \u001B[38;5;28;43mself\u001B[39;49m\u001B[38;5;241;43m.\u001B[39;49m\u001B[43mschema\u001B[49m\u001B[38;5;241;43m.\u001B[39;49m\u001B[43mexecute_query\u001B[49m\u001B[43m(\u001B[49m\u001B[43mnew_table\u001B[49m\u001B[38;5;241;43m.\u001B[39;49m\u001B[43mtable_id\u001B[49m\u001B[43m,\u001B[49m\u001B[43m \u001B[49m\u001B[38;5;28;43mself\u001B[39;49m\u001B[38;5;241;43m.\u001B[39;49m\u001B[43mtable_id\u001B[49m\u001B[43m,\u001B[49m\u001B[43m \u001B[49m\u001B[43mnew_table\u001B[49m\u001B[38;5;241;43m.\u001B[39;49m\u001B[43mderivation\u001B[49m\u001B[43m)\u001B[49m\n\u001B[1;32m    163\u001B[0m new_table\u001B[38;5;241m.\u001B[39mschema \u001B[38;5;241m=\u001B[39m \u001B[38;5;28mself\u001B[39m\u001B[38;5;241m.\u001B[39mschema\n\u001B[1;32m    164\u001B[0m \u001B[38;5;28;01mreturn\u001B[39;00m new_table\n",
      "File \u001B[0;32m~/Documents/Part_II_Project/schema/schema.py:129\u001B[0m, in \u001B[0;36mSchema.execute_query\u001B[0;34m(self, table_id, derived_from, derivation)\u001B[0m\n\u001B[1;32m    128\u001B[0m \u001B[38;5;28;01mdef\u001B[39;00m \u001B[38;5;21mexecute_query\u001B[39m(\u001B[38;5;28mself\u001B[39m, table_id, derived_from, derivation):\n\u001B[0;32m--> 129\u001B[0m     \u001B[38;5;28;01mreturn\u001B[39;00m \u001B[38;5;28;43mself\u001B[39;49m\u001B[38;5;241;43m.\u001B[39;49m\u001B[43mbackend\u001B[49m\u001B[38;5;241;43m.\u001B[39;49m\u001B[43mexecute_query\u001B[49m\u001B[43m(\u001B[49m\u001B[43mtable_id\u001B[49m\u001B[43m,\u001B[49m\u001B[43m \u001B[49m\u001B[43mderived_from\u001B[49m\u001B[43m,\u001B[49m\u001B[43m \u001B[49m\u001B[43mderivation\u001B[49m\u001B[43m)\u001B[49m\n",
      "File \u001B[0;32m~/Documents/Part_II_Project/backend/pandas_backend/pandas_backend.py:92\u001B[0m, in \u001B[0;36mPandasBackend.execute_query\u001B[0;34m(self, table_id, derived_from, derivation_steps)\u001B[0m\n\u001B[1;32m     90\u001B[0m table, cont \u001B[38;5;241m=\u001B[39m interpret(derivation_steps, \u001B[38;5;28mself\u001B[39m, k(tbl), \u001B[38;5;28;01mlambda\u001B[39;00m x:x)\n\u001B[1;32m     91\u001B[0m \u001B[38;5;28mself\u001B[39m\u001B[38;5;241m.\u001B[39mderived_tables[table_id] \u001B[38;5;241m=\u001B[39m table, cont, length \u001B[38;5;241m-\u001B[39m \u001B[38;5;241m1\u001B[39m\n\u001B[0;32m---> 92\u001B[0m \u001B[38;5;28;01mreturn\u001B[39;00m \u001B[43mend\u001B[49m\u001B[43m(\u001B[49m\u001B[43mlast\u001B[49m\u001B[43m,\u001B[49m\u001B[43m \u001B[49m\u001B[43mtable\u001B[49m\u001B[43m,\u001B[49m\u001B[43m \u001B[49m\u001B[43mcont\u001B[49m\u001B[43m)\u001B[49m\n",
      "File \u001B[0;32m~/Documents/Part_II_Project/backend/pandas_backend/interpreter.py:58\u001B[0m, in \u001B[0;36mend\u001B[0;34m(derivation_step, table, cont)\u001B[0m\n\u001B[1;32m     56\u001B[0m \u001B[38;5;28;01mfor\u001B[39;00m hd \u001B[38;5;129;01min\u001B[39;00m hidden_depends:\n\u001B[1;32m     57\u001B[0m     \u001B[38;5;28mprint\u001B[39m(hd)\n\u001B[0;32m---> 58\u001B[0m     hdds \u001B[38;5;241m=\u001B[39m \u001B[43msearch\u001B[49m\u001B[43m(\u001B[49m\u001B[43mhd\u001B[49m\u001B[43m)\u001B[49m\n\u001B[1;32m     59\u001B[0m     \u001B[38;5;28mprint\u001B[39m(hdds)\n\u001B[1;32m     60\u001B[0m     \u001B[38;5;28;01mfor\u001B[39;00m hdd \u001B[38;5;129;01min\u001B[39;00m hdds:\n",
      "File \u001B[0;32m~/Documents/Part_II_Project/backend/pandas_backend/interpreter.py:52\u001B[0m, in \u001B[0;36mend.<locals>.search\u001B[0;34m(derivation_keys)\u001B[0m\n\u001B[1;32m     50\u001B[0m \u001B[38;5;28;01melse\u001B[39;00m:\n\u001B[1;32m     51\u001B[0m     \u001B[38;5;28mprint\u001B[39m(\u001B[38;5;124m\"\u001B[39m\u001B[38;5;124mDKEYS: \u001B[39m\u001B[38;5;124m\"\u001B[39m \u001B[38;5;241m+\u001B[39m \u001B[38;5;28mstr\u001B[39m( derivation_keys))\n\u001B[0;32m---> 52\u001B[0m     \u001B[38;5;28;01mreturn\u001B[39;00m [derivation_keys] \u001B[38;5;241m+\u001B[39m \u001B[38;5;28mlist\u001B[39m(itertools\u001B[38;5;241m.\u001B[39mproduct([search(k\u001B[38;5;241m.\u001B[39mkeyed_by) \u001B[38;5;28;01mfor\u001B[39;00m k \u001B[38;5;129;01min\u001B[39;00m derivation_keys]))\n",
      "\u001B[0;31mTypeError\u001B[0m: 'Column' object is not iterable"
     ]
    }
   ],
   "source": [
    "table4 = table3.infer(['person.cardnum'], 'person.person')\n",
    "print(table4)"
   ],
   "metadata": {
    "collapsed": false,
    "ExecuteTime": {
     "end_time": "2023-12-09T12:26:38.788534Z",
     "start_time": "2023-12-09T12:26:38.255931Z"
    }
   },
   "id": "6e245a46fc2dc9e1"
  },
  {
   "cell_type": "code",
   "execution_count": null,
   "outputs": [],
   "source": [
    "table = table4.hide('person.cardnum').hide('cardnum.cardnum')\n",
    "print(table)"
   ],
   "metadata": {
    "collapsed": false,
    "ExecuteTime": {
     "end_time": "2023-12-09T12:26:38.791460Z",
     "start_time": "2023-12-09T12:26:38.790911Z"
    }
   },
   "id": "699e1afbc95f06a2"
  },
  {
   "cell_type": "code",
   "execution_count": null,
   "outputs": [],
   "source": [
    "table1 = s.get(['cardnum.val_id'])\n",
    "print(table1)"
   ],
   "metadata": {
    "collapsed": false,
    "ExecuteTime": {
     "end_time": "2023-12-09T12:26:38.793849Z",
     "start_time": "2023-12-09T12:26:38.793143Z"
    }
   },
   "id": "4e4839debfa750fc"
  },
  {
   "cell_type": "code",
   "execution_count": null,
   "outputs": [],
   "source": [
    "table1.infer(['cardnum.val_id'], 'person.person')"
   ],
   "metadata": {
    "collapsed": false,
    "ExecuteTime": {
     "start_time": "2023-12-09T12:26:38.795652Z"
    }
   },
   "id": "17b76ee146606cae"
  },
  {
   "cell_type": "code",
   "execution_count": null,
   "outputs": [],
   "source": [
    "table = (s.get(['person.cardnum']).infer(['person.cardnum'], 'person.person'))\n",
    "print(table)"
   ],
   "metadata": {
    "collapsed": false,
    "ExecuteTime": {
     "start_time": "2023-12-09T12:26:38.797752Z"
    }
   },
   "id": "befb98b90e126167"
  },
  {
   "cell_type": "code",
   "execution_count": null,
   "outputs": [],
   "source": [
    "table1 = table.compose(['cardnum.val_id'], 'person.cardnum')\n",
    "print(table1)\n"
   ],
   "metadata": {
    "collapsed": false,
    "ExecuteTime": {
     "start_time": "2023-12-09T12:26:38.799761Z"
    }
   },
   "id": "4dc9724785eb7b7f"
  },
  {
   "cell_type": "code",
   "execution_count": null,
   "outputs": [],
   "source": [
    "table = s.get(['person.person']).infer(['person.person'], 'person.cardnum')\n",
    "print(table)"
   ],
   "metadata": {
    "collapsed": false,
    "ExecuteTime": {
     "start_time": "2023-12-09T12:26:38.801051Z"
    }
   },
   "id": "6001ed6fa758bb60"
  },
  {
   "cell_type": "code",
   "execution_count": null,
   "outputs": [],
   "source": [
    "table1 = table.show('person.cardnum')\n",
    "print(table1)\n",
    "table2 = table1.hide('person.cardnum')\n",
    "print(table2)"
   ],
   "metadata": {
    "collapsed": false,
    "ExecuteTime": {
     "start_time": "2023-12-09T12:26:38.802572Z"
    }
   },
   "id": "6997c3f01cb8ec48"
  },
  {
   "cell_type": "code",
   "execution_count": null,
   "outputs": [],
   "source": [],
   "metadata": {
    "collapsed": false,
    "ExecuteTime": {
     "start_time": "2023-12-09T12:26:38.803854Z"
    }
   },
   "id": "7a46b63867e95d65"
  }
 ],
 "metadata": {
  "kernelspec": {
   "display_name": "Python 3",
   "language": "python",
   "name": "python3"
  },
  "language_info": {
   "codemirror_mode": {
    "name": "ipython",
    "version": 2
   },
   "file_extension": ".py",
   "mimetype": "text/x-python",
   "name": "python",
   "nbconvert_exporter": "python",
   "pygments_lexer": "ipython2",
   "version": "2.7.6"
  }
 },
 "nbformat": 4,
 "nbformat_minor": 5
}
