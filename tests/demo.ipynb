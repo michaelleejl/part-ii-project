{
 "cells": [
  {
   "cell_type": "code",
   "execution_count": 1,
   "id": "initial_id",
   "metadata": {
    "collapsed": true,
    "ExecuteTime": {
     "end_time": "2023-12-11T07:10:40.948734Z",
     "start_time": "2023-12-11T07:10:40.006543Z"
    }
   },
   "outputs": [
    {
     "name": "stdout",
     "output_type": "stream",
     "text": [
      "Intel MKL WARNING: Support of Intel(R) Streaming SIMD Extensions 4.2 (Intel(R) SSE4.2) enabled only processors has been deprecated. Intel oneAPI Math Kernel Library 2025.0 will require Intel(R) Advanced Vector Extensions (Intel(R) AVX) instructions.\n",
      "Intel MKL WARNING: Support of Intel(R) Streaming SIMD Extensions 4.2 (Intel(R) SSE4.2) enabled only processors has been deprecated. Intel oneAPI Math Kernel Library 2025.0 will require Intel(R) Advanced Vector Extensions (Intel(R) AVX) instructions.\n"
     ]
    }
   ],
   "source": [
    "from schema import *\n",
    "\n",
    "s = Schema()\n",
    "\n",
    "# Load up the CSVs\n",
    "cardnum = pd.read_csv(\"./csv/bonuses/cardnum.csv\").set_index(\"val_id\")\n",
    "person = pd.read_csv(\"./csv/bonuses/person.csv\").set_index(\"cardnum\")\n",
    "\n",
    "# Insert them into the data frames\n",
    "s.insert_dataframe(cardnum, \"cardnum\")\n",
    "s.insert_dataframe(person, \"person\")\n",
    "\n",
    "# Get handles on the nodes now in the schema - may be slightly ugly but\n",
    "# we can slap on a load of syntactic sugar\n",
    "c_cardnum = SchemaNode(\"cardnum\", cluster=\"cardnum\")\n",
    "c_val_id = SchemaNode(\"val_id\", cluster=\"cardnum\")\n",
    "\n",
    "p_cardnum = SchemaNode(\"cardnum\", cluster=\"person\")\n",
    "p_person = SchemaNode(\"person\", cluster=\"person\")\n",
    "\n",
    "s.blend(c_cardnum, p_cardnum, under=\"Cardnum\")"
   ]
  },
  {
   "cell_type": "code",
   "execution_count": 2,
   "outputs": [
    {
     "name": "stdout",
     "output_type": "stream",
     "text": [
      "[cardnum.val_id || ]\n",
      "Empty DataFrame\n",
      "Columns: []\n",
      "Index: [1, 2, 3, 4, 5, 8]\n"
     ]
    }
   ],
   "source": [
    "from tables import *\n",
    "table1 = s.get(['cardnum.val_id'])\n",
    "print(table1)"
   ],
   "metadata": {
    "collapsed": false,
    "ExecuteTime": {
     "end_time": "2023-12-11T07:10:45.320200Z",
     "start_time": "2023-12-11T07:10:45.314210Z"
    }
   },
   "id": "df5869941b01a7e7"
  },
  {
   "cell_type": "code",
   "execution_count": 3,
   "outputs": [
    {
     "name": "stdout",
     "output_type": "stream",
     "text": [
      "[cardnum.val_id || cardnum.cardnum]\n",
      "                cardnum.cardnum\n",
      "cardnum.val_id                 \n",
      "1                          5172\n",
      "2                          2354\n",
      "3                          1410\n",
      "4                          1111\n",
      "5                          2354\n",
      "8                          4412\n"
     ]
    }
   ],
   "source": [
    "table2 = table1.infer(['cardnum.val_id'], 'cardnum.cardnum')\n",
    "print(table2)"
   ],
   "metadata": {
    "collapsed": false,
    "ExecuteTime": {
     "end_time": "2023-12-11T07:11:15.756164Z",
     "start_time": "2023-12-11T07:11:15.736456Z"
    }
   },
   "id": "b59704dbc0338129"
  },
  {
   "cell_type": "code",
   "execution_count": 4,
   "outputs": [
    {
     "name": "stdout",
     "output_type": "stream",
     "text": [
      "[cardnum.val_id || cardnum.cardnum person.cardnum]\n",
      "                cardnum.cardnum  person.cardnum\n",
      "cardnum.val_id                                 \n",
      "1                          5172            5172\n",
      "2                          2354            2354\n",
      "5                          2354            2354\n",
      "3                          1410            1410\n",
      "4                          1111            1111\n",
      "8                          4412            4412\n"
     ]
    }
   ],
   "source": [
    "table3 = table2.infer(['cardnum.cardnum'], 'person.cardnum')\n",
    "print(table3)"
   ],
   "metadata": {
    "collapsed": false,
    "ExecuteTime": {
     "end_time": "2023-12-11T07:11:21.927867Z",
     "start_time": "2023-12-11T07:11:21.899998Z"
    }
   },
   "id": "61ba09105fee2042"
  },
  {
   "cell_type": "code",
   "execution_count": 5,
   "outputs": [
    {
     "name": "stdout",
     "output_type": "stream",
     "text": [
      "[cardnum.val_id || cardnum.cardnum person.cardnum person.person]\n",
      "                cardnum.cardnum  person.cardnum person.person\n",
      "cardnum.val_id                                               \n",
      "1.0                      5172.0            5172           NaN\n",
      "2.0                      2354.0            2354         Steve\n",
      "5.0                      2354.0            2354         Steve\n",
      "3.0                      1410.0            1410           Tom\n",
      "4.0                      1111.0            1111         Steve\n",
      "8.0                      4412.0            4412           NaN\n",
      "4 keys hidden\n"
     ]
    }
   ],
   "source": [
    "table4 = table3.infer(['person.cardnum'], 'person.person')\n",
    "print(table4)"
   ],
   "metadata": {
    "collapsed": false,
    "ExecuteTime": {
     "end_time": "2023-12-11T07:11:27.423770Z",
     "start_time": "2023-12-11T07:11:27.374908Z"
    }
   },
   "id": "6e245a46fc2dc9e1"
  },
  {
   "cell_type": "code",
   "execution_count": 6,
   "outputs": [
    {
     "name": "stdout",
     "output_type": "stream",
     "text": [
      "[cardnum.val_id || person.person]\n",
      "               person.person\n",
      "cardnum.val_id              \n",
      "2.0                    Steve\n",
      "5.0                    Steve\n",
      "3.0                      Tom\n",
      "4.0                    Steve\n",
      "2 keys hidden\n",
      "2 values hidden\n"
     ]
    }
   ],
   "source": [
    "table = table4.hide('person.cardnum').hide('cardnum.cardnum')\n",
    "print(table)"
   ],
   "metadata": {
    "collapsed": false,
    "ExecuteTime": {
     "end_time": "2023-12-11T07:11:32.042984Z",
     "start_time": "2023-12-11T07:11:31.991752Z"
    }
   },
   "id": "699e1afbc95f06a2"
  },
  {
   "cell_type": "code",
   "execution_count": 8,
   "outputs": [
    {
     "name": "stdout",
     "output_type": "stream",
     "text": [
      "[cardnum.val_id || ]\n",
      "Empty DataFrame\n",
      "Columns: []\n",
      "Index: [1, 2, 3, 4, 5, 8]\n"
     ]
    }
   ],
   "source": [
    "table1 = s.get(['cardnum.val_id'])\n",
    "print(table1)"
   ],
   "metadata": {
    "collapsed": false,
    "ExecuteTime": {
     "end_time": "2023-12-11T07:12:12.124822Z",
     "start_time": "2023-12-11T07:12:12.085116Z"
    }
   },
   "id": "4e4839debfa750fc"
  },
  {
   "cell_type": "code",
   "execution_count": 9,
   "outputs": [
    {
     "data": {
      "text/plain": "[cardnum.val_id || person.person]\n               person.person\ncardnum.val_id              \n2.0                    Steve\n3.0                      Tom\n4.0                    Steve\n5.0                    Steve\n2 keys hidden\n2 values hidden\n"
     },
     "execution_count": 9,
     "metadata": {},
     "output_type": "execute_result"
    }
   ],
   "source": [
    "table1.infer(['cardnum.val_id'], 'person.person')"
   ],
   "metadata": {
    "collapsed": false,
    "ExecuteTime": {
     "end_time": "2023-12-11T07:12:15.075818Z",
     "start_time": "2023-12-11T07:12:15.044038Z"
    }
   },
   "id": "17b76ee146606cae"
  },
  {
   "cell_type": "code",
   "execution_count": 10,
   "outputs": [
    {
     "name": "stdout",
     "output_type": "stream",
     "text": [
      "[person.cardnum || person.person]\n",
      "               person.person\n",
      "person.cardnum              \n",
      "1111                   Steve\n",
      "1410                     Tom\n",
      "2354                   Steve\n",
      "6440                   Harry\n",
      "5467                    Dick\n"
     ]
    }
   ],
   "source": [
    "table = (s.get(['person.cardnum']).infer(['person.cardnum'], 'person.person'))\n",
    "print(table)"
   ],
   "metadata": {
    "collapsed": false,
    "ExecuteTime": {
     "end_time": "2023-12-11T07:12:23.699938Z",
     "start_time": "2023-12-11T07:12:23.675931Z"
    }
   },
   "id": "befb98b90e126167"
  },
  {
   "cell_type": "code",
   "execution_count": 16,
   "outputs": [
    {
     "ename": "AssertionError",
     "evalue": "",
     "output_type": "error",
     "traceback": [
      "\u001B[0;31m---------------------------------------------------------------------------\u001B[0m",
      "\u001B[0;31mAssertionError\u001B[0m                            Traceback (most recent call last)",
      "Cell \u001B[0;32mIn[16], line 1\u001B[0m\n\u001B[0;32m----> 1\u001B[0m tbl1 \u001B[38;5;241m=\u001B[39m \u001B[43mtable\u001B[49m\u001B[38;5;241;43m.\u001B[39;49m\u001B[43mcompose\u001B[49m\u001B[43m(\u001B[49m\u001B[43m[\u001B[49m\u001B[38;5;124;43m'\u001B[39;49m\u001B[38;5;124;43mcardnum.val_id\u001B[39;49m\u001B[38;5;124;43m'\u001B[39;49m\u001B[43m]\u001B[49m\u001B[43m,\u001B[49m\u001B[43m \u001B[49m\u001B[38;5;124;43m'\u001B[39;49m\u001B[38;5;124;43mperson.cardnum\u001B[39;49m\u001B[38;5;124;43m'\u001B[39;49m\u001B[43m)\u001B[49m\n\u001B[1;32m      2\u001B[0m \u001B[38;5;28mprint\u001B[39m(table1)\n\u001B[1;32m      4\u001B[0m table2 \u001B[38;5;241m=\u001B[39m tbl1\u001B[38;5;241m.\u001B[39mset_key([\u001B[38;5;124m\"\u001B[39m\u001B[38;5;124mperson.person\u001B[39m\u001B[38;5;124m\"\u001B[39m])\n",
      "File \u001B[0;32m~/Documents/Part_II_Project/tables/table.py:122\u001B[0m, in \u001B[0;36mTable.compose\u001B[0;34m(self, from_keys, to_key, via)\u001B[0m\n\u001B[1;32m    120\u001B[0m \u001B[38;5;28;01massert\u001B[39;00m \u001B[38;5;28mlen\u001B[39m(from_keys) \u001B[38;5;241m==\u001B[39m \u001B[38;5;28mlen\u001B[39m(\u001B[38;5;28mset\u001B[39m(from_keys))\n\u001B[1;32m    121\u001B[0m key_idx \u001B[38;5;241m=\u001B[39m find_index(\u001B[38;5;28mself\u001B[39m\u001B[38;5;241m.\u001B[39mdisplayed_columns, to_key)\n\u001B[0;32m--> 122\u001B[0m \u001B[38;5;28;01massert\u001B[39;00m \u001B[38;5;241m0\u001B[39m \u001B[38;5;241m<\u001B[39m\u001B[38;5;241m=\u001B[39m key_idx \u001B[38;5;241m<\u001B[39m \u001B[38;5;28mself\u001B[39m\u001B[38;5;241m.\u001B[39mmarker\n\u001B[1;32m    123\u001B[0m key \u001B[38;5;241m=\u001B[39m \u001B[38;5;28mself\u001B[39m\u001B[38;5;241m.\u001B[39mkeys[to_key]\n\u001B[1;32m    124\u001B[0m start_node \u001B[38;5;241m=\u001B[39m key\u001B[38;5;241m.\u001B[39mnode\n",
      "\u001B[0;31mAssertionError\u001B[0m: "
     ]
    }
   ],
   "source": [
    "tbl1 = table.compose(['cardnum.val_id'], 'person.cardnum')\n",
    "print(table1)\n",
    "\n",
    "table2 = tbl1.set_key([\"person.person\"])\n"
   ],
   "metadata": {
    "collapsed": false,
    "ExecuteTime": {
     "end_time": "2023-12-11T07:17:32.325295Z",
     "start_time": "2023-12-11T07:17:32.288069Z"
    }
   },
   "id": "4dc9724785eb7b7f"
  },
  {
   "cell_type": "code",
   "execution_count": null,
   "outputs": [],
   "source": [
    "table1 = table"
   ],
   "metadata": {
    "collapsed": false
   },
   "id": "c37820b87e10bc86"
  },
  {
   "cell_type": "code",
   "execution_count": 12,
   "outputs": [
    {
     "name": "stdout",
     "output_type": "stream",
     "text": [
      "person.cardnum\n",
      "[person.person || person.cardnum]\n",
      "              person.cardnum\n",
      "person.person               \n",
      "Steve           [1111, 2354]\n",
      "Tom                   [1410]\n",
      "Harry                 [6440]\n",
      "Dick                  [5467]\n"
     ]
    }
   ],
   "source": [
    "table = s.get(['person.person']).infer(['person.person'], 'person.cardnum')\n",
    "print(table)"
   ],
   "metadata": {
    "collapsed": false,
    "ExecuteTime": {
     "end_time": "2023-12-11T07:13:03.485687Z",
     "start_time": "2023-12-11T07:13:03.464255Z"
    }
   },
   "id": "6001ed6fa758bb60"
  },
  {
   "cell_type": "code",
   "execution_count": null,
   "outputs": [],
   "source": [
    "table1 = table.show('person.cardnum')\n",
    "print(table1)\n",
    "table2 = table1.hide('person.cardnum')\n",
    "print(table2)"
   ],
   "metadata": {
    "collapsed": false
   },
   "id": "6997c3f01cb8ec48"
  },
  {
   "cell_type": "code",
   "execution_count": null,
   "outputs": [],
   "source": [],
   "metadata": {
    "collapsed": false
   },
   "id": "7a46b63867e95d65"
  }
 ],
 "metadata": {
  "kernelspec": {
   "display_name": "Python 3",
   "language": "python",
   "name": "python3"
  },
  "language_info": {
   "codemirror_mode": {
    "name": "ipython",
    "version": 2
   },
   "file_extension": ".py",
   "mimetype": "text/x-python",
   "name": "python",
   "nbconvert_exporter": "python",
   "pygments_lexer": "ipython2",
   "version": "2.7.6"
  }
 },
 "nbformat": 4,
 "nbformat_minor": 5
}
